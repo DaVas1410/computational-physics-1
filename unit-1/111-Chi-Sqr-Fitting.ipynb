{
 "cells": [
  {
   "cell_type": "markdown",
   "id": "4b551e2f",
   "metadata": {},
   "source": [
    "# $\\chi^2$ fitting/minimisation:\n",
    "\n",
    "Given the functional form:\n",
    "\n",
    "$r(p) = \\frac{y_i - f(x_i,p)}{\\sigma_i}$\n",
    "\n",
    "where $y_i$ are the data points and $f(x_i,p)$ is the model.\n",
    "\n",
    "\n",
    "$\\chi^2$ minimisation requires you to minimise it so that we find the best value of $p$:\n",
    "\n",
    "$\\min \\sum_1^N (r(p))^2$\n",
    "\n",
    "The advantage of this method is that you can include the uncertainties in $y_i$."
   ]
  },
  {
   "cell_type": "markdown",
   "id": "8ba0207d",
   "metadata": {},
   "source": [
    "## Example 1: Simple Pendulum\n",
    "\n",
    "Let's take a look at the simple pendulum experiment from physics 1.\n",
    "\n",
    "In the lab, you are normally asked to collect data points for differents lengths and periods of simple pendulum experiments. To collect each data point, we fix the length of the pendulum, move the pendulum bob by a small angle and release it. Subsequently, we use a chronometer to record the time ot takes for the bob to complete a period. Several measurementes can be collected to build up statistics."
   ]
  },
  {
   "cell_type": "markdown",
   "id": "0cdf30fe",
   "metadata": {},
   "source": [
    "### Length-period relation:\n",
    "\n",
    "The pendulum equations result in a physically-motivated model for the relationship between the lenght and period of the pendulum.\n",
    "\n",
    "$$T = 2\\pi\\sqrt{\\frac{L}{g}}$$\n",
    "\n",
    "$$T = \\frac{2\\pi}{\\sqrt{g}}\\sqrt{L}$$\n",
    "\n",
    "$$T = \\beta\\sqrt{L}$$\n"
   ]
  },
  {
   "cell_type": "markdown",
   "id": "9475e5a5",
   "metadata": {},
   "source": [
    "### Base example on LM regression:\n",
    "\n",
    "- We will carry out an LM regression using the averages."
   ]
  },
  {
   "cell_type": "code",
   "execution_count": 1,
   "id": "f47455f3",
   "metadata": {},
   "outputs": [],
   "source": [
    "import numpy as np\n",
    "import matplotlib.pyplot as plt\n",
    "import pandas as pd"
   ]
  },
  {
   "cell_type": "code",
   "execution_count": 4,
   "id": "200e4b58",
   "metadata": {},
   "outputs": [],
   "source": [
    "# Place the data file into a pandas df\n",
    "\n",
    "def io_data(filename):\n",
    "    \"\"\"\n",
    "    This is an I/O function that opens the pendulum data\n",
    "    and return data arrays.\n",
    "    Input: filename (str)\n",
    "    Outputs: data arrays\n",
    "    \"\"\"\n",
    "    \n",
    "    # Create a pandas df\n",
    "    df = pd.read_csv(filename, sep = \",\")\n",
    "    \n",
    "    # Extract the arrays\n",
    "    lengthp = np.array(df[\"Length(m)\"])\n",
    "    period1 = np.array(df[\"Period1(s)\"])\n",
    "    period2 = np.array(df[\"Period2(s)\"])\n",
    "    period3 = np.array(df[\"Period3(s)\"])\n",
    "    period4 = np.array(df[\"Period4(s)\"])\n",
    "    period5 = np.array(df[\"Period5(s)\"])\n",
    "    \n",
    "    return lengthp, period1, period2, period3, period4, period5"
   ]
  },
  {
   "cell_type": "code",
   "execution_count": 18,
   "id": "5dcef55c",
   "metadata": {},
   "outputs": [
    {
     "name": "stdout",
     "output_type": "stream",
     "text": [
      "[0.53 0.92 1.17 1.27 1.37 1.52 1.66 1.81 1.94 1.99]\n",
      "[0.52 0.91 1.14 1.3  1.36 1.55 1.61 1.79 1.9  1.98]\n",
      "[0.6  0.93 1.15 1.31 1.4  1.56 1.69 1.82 1.92 2.04]\n",
      "[0.65 0.92 1.16 1.27 1.41 1.54 1.67 1.83 1.92 1.95]\n",
      "[0.59 0.89 1.18 1.29 1.42 1.53 1.65 1.83 1.93 1.96]\n"
     ]
    }
   ],
   "source": [
    "# Define the path to the file\n",
    "\n",
    "fname = \"../sample-data/data_pendulum.csv\"\n",
    "\n",
    "# Call our function \n",
    "\n",
    "l, t1, t2, t3, t4, t5 = io_data(fname)\n",
    "\n",
    "# Safe check\n",
    "print(t1)\n",
    "print(t2)\n",
    "print(t3)\n",
    "print(t4)\n",
    "print(t5)"
   ]
  },
  {
   "cell_type": "markdown",
   "id": "77ea6f12",
   "metadata": {},
   "source": [
    "### Calculate the mean and std of the period\n",
    "\n",
    "- np.mean()\n",
    "\n",
    "- np.std()"
   ]
  },
  {
   "cell_type": "code",
   "execution_count": 29,
   "id": "a845789b",
   "metadata": {},
   "outputs": [],
   "source": [
    "# Place the mean and std into:\n",
    "\n",
    "#new_arr = np.array([t1, t2, t3, t4, t5])\n",
    "#print(new_arr.shape)\n",
    "\n",
    "mean_t = np.mean(np.array([t1, t2, t3, t4, t5]), axis = 0)\n",
    "\n",
    "stdv_t = np.std(np.array([t1, t2, t3, t4, t5]), axis = 0)\n",
    "\n",
    "#print(mean_t.size)\n",
    "#print(stdv_t.size)\n",
    "\n",
    "#print(mean_t)\n",
    "#print(stdv_t)"
   ]
  },
  {
   "cell_type": "markdown",
   "id": "727031a8",
   "metadata": {},
   "source": [
    "### Plotting mean period vs. pendulum length\n",
    "\n",
    "\n"
   ]
  },
  {
   "cell_type": "code",
   "execution_count": 35,
   "id": "aa46ac0e",
   "metadata": {},
   "outputs": [
    {
     "data": {
      "image/png": "[encoded data removed]",
      "text/plain": [
       "<Figure size 400x300 with 1 Axes>"
      ]
     },
     "metadata": {},
     "output_type": "display_data"
    }
   ],
   "source": [
    "plt.figure(figsize=(4,3))\n",
    "\n",
    "plt.plot(l, mean_t, marker = \"o\", linestyle = \" \")\n",
    "\n",
    "plt.xlabel(r\"$L\\,\\rm [m]$\")\n",
    "plt.ylabel(r\"$T\\,\\rm [s]$\")\n",
    "plt.show()"
   ]
  },
  {
   "cell_type": "code",
   "execution_count": 39,
   "id": "e9b57b10",
   "metadata": {},
   "outputs": [
    {
     "data": {
      "image/png": "[encoded data removed]",
      "text/plain": [
       "<Figure size 400x300 with 1 Axes>"
      ]
     },
     "metadata": {},
     "output_type": "display_data"
    }
   ],
   "source": [
    "plt.figure(figsize=(4,3))\n",
    "\n",
    "plt.errorbar(l, mean_t, 3*stdv_t, 0, marker = \".\", linestyle = \" \")\n",
    "\n",
    "plt.xlabel(r\"$L\\,\\rm [m]$\")\n",
    "plt.ylabel(r\"$T\\,\\rm [s]$\")\n",
    "plt.show()"
   ]
  },
  {
   "cell_type": "code",
   "execution_count": 42,
   "id": "f1621388",
   "metadata": {
    "scrolled": false
   },
   "outputs": [
    {
     "data": {
      "image/png": "[encoded data removed]",
      "text/plain": [
       "<Figure size 640x480 with 1 Axes>"
      ]
     },
     "metadata": {},
     "output_type": "display_data"
    }
   ],
   "source": [
    "# Plot of the data\n",
    "\n",
    "fig, ax = plt.subplots()\n",
    "\n",
    "ax.plot(l, mean_t, linestyle = \" \", marker = \"+\", label = \"Experimental\")\n",
    "ax.errorbar(l, mean_t, yerr = 3*stdv_t, linestyle = \" \")\n",
    "\n",
    "ax.set_xlabel(r\"$L (m)$\")\n",
    "ax.set_ylabel(r\"$T (s)$\")\n",
    "\n",
    "plt.legend(loc = 4)\n",
    "\n",
    "plt.show()"
   ]
  },
  {
   "cell_type": "markdown",
   "id": "dfc60654",
   "metadata": {},
   "source": [
    "### Applying the LM method:"
   ]
  },
  {
   "cell_type": "code",
   "execution_count": 45,
   "id": "e20d2fb5",
   "metadata": {},
   "outputs": [],
   "source": [
    "import scipy.stats as st\n",
    "import scipy.optimize as opt"
   ]
  },
  {
   "cell_type": "code",
   "execution_count": 46,
   "id": "826495ef",
   "metadata": {},
   "outputs": [
    {
     "name": "stdout",
     "output_type": "stream",
     "text": [
      "Spearman:\n",
      " SpearmanrResult(correlation=0.9999999999999999, pvalue=6.646897422032013e-64)\n",
      "Pearson:\n",
      " (0.9817728684255518, 4.724114037134159e-07)\n"
     ]
    }
   ],
   "source": [
    "# Let's calculate these coefficients\n",
    "\n",
    "# 1. Spearman coefficient -> monoticity\n",
    "sp = st.spearmanr(l, mean_t)\n",
    "\n",
    "# 2. Pearson coefficient -> linearity\n",
    "pe = st.pearsonr(l, mean_t)\n",
    "\n",
    "print(\"Spearman:\\n\", sp)\n",
    "\n",
    "print(\"Pearson:\\n\", pe)"
   ]
  },
  {
   "cell_type": "markdown",
   "id": "c457dc3e",
   "metadata": {},
   "source": [
    "### Physically motivated model:\n",
    "\n",
    "$$T = \\beta\\sqrt{L}$$\n",
    "\n",
    "\n",
    "We will carry out the regression using curve_fit()."
   ]
  },
  {
   "cell_type": "code",
   "execution_count": 48,
   "id": "1c6965ea",
   "metadata": {},
   "outputs": [],
   "source": [
    "# Model function\n",
    "\n",
    "def fit_model(x_values, beta):\n",
    "    \"\"\"\n",
    "    This is our regression model.\n",
    "    Inputs: x_values (lengths), beta -> free param.\n",
    "    Output: y_values model\n",
    "    \"\"\"\n",
    "    y_values = beta*np.sqrt(x_values)\n",
    "    \n",
    "    return y_values"
   ]
  },
  {
   "cell_type": "code",
   "execution_count": 51,
   "id": "bd2780b5",
   "metadata": {},
   "outputs": [
    {
     "name": "stdout",
     "output_type": "stream",
     "text": [
      "[2.00651334]\n",
      "The associated uncertainty are:\n",
      " [0.01442027]\n"
     ]
    }
   ],
   "source": [
    "# Call the curve_fit function\n",
    "\n",
    "coef, cova = opt.curve_fit(fit_model, l, mean_t)\n",
    "\n",
    "print(coef)\n",
    "\n",
    "# Calculate uncertainties\n",
    "unc_coef = np.sqrt(np.diag(cova))\n",
    "\n",
    "print(\"The associated uncertainty are:\\n\", unc_coef)"
   ]
  },
  {
   "cell_type": "markdown",
   "id": "b07adcf4",
   "metadata": {},
   "source": [
    "### Plotting the regression result:"
   ]
  },
  {
   "cell_type": "code",
   "execution_count": 52,
   "id": "fc22c2f1",
   "metadata": {},
   "outputs": [],
   "source": [
    "# Evaluate l in the regression model\n",
    "mean_t_fit = fit_model(l, coef)\n"
   ]
  },
  {
   "cell_type": "code",
   "execution_count": 53,
   "id": "6e192808",
   "metadata": {},
   "outputs": [
    {
     "data": {
      "image/png": "[encoded data removed]",
      "text/plain": [
       "<Figure size 400x300 with 1 Axes>"
      ]
     },
     "metadata": {},
     "output_type": "display_data"
    }
   ],
   "source": [
    "plt.figure(figsize=(4,3))\n",
    "\n",
    "plt.plot(l, mean_t_fit, color = \"red\")\n",
    "plt.errorbar(l, mean_t, 3*stdv_t, 0, marker = \".\", linestyle = \" \")\n",
    "\n",
    "plt.xlabel(r\"$L\\,\\rm [m]$\")\n",
    "plt.ylabel(r\"$T\\,\\rm [s]$\")\n",
    "plt.show()"
   ]
  },
  {
   "cell_type": "markdown",
   "id": "55068ddb",
   "metadata": {},
   "source": [
    "### Calculating the acceleration of gravity:\n",
    "\n",
    "$$g=\\left(\\frac{2\\pi}{\\beta}\\right)^2$$"
   ]
  },
  {
   "cell_type": "code",
   "execution_count": 55,
   "id": "ccf66bd6",
   "metadata": {},
   "outputs": [
    {
     "name": "stdout",
     "output_type": "stream",
     "text": [
      "g in m/s^2=  [9.80563301]\n"
     ]
    }
   ],
   "source": [
    "print(\"g in m/s^2= \", (2*np.pi/coef)**2)"
   ]
  },
  {
   "cell_type": "markdown",
   "id": "c0051e5e",
   "metadata": {},
   "source": [
    "### Method 1. Using our own functions:"
   ]
  },
  {
   "cell_type": "markdown",
   "id": "fc0c27f1",
   "metadata": {},
   "source": [
    "### Method 2: Optimisation routine to minimise our $\\chi^2$ function:\n",
    "\n",
    "We will use minimize from scipy.optimize:\n",
    "\n",
    "We can use opt.minimize from the scipy package.\n",
    "\n",
    "\n",
    "https://docs.scipy.org/doc/scipy/reference/generated/scipy.optimize.minimize.html\n",
    "\n",
    "\n",
    "This function minimises a scalar function of one or more variables.\n",
    "\n",
    "\n",
    "The optimization result is represented as a OptimizeResult object with attributes:\n",
    "\n",
    "\n",
    "- **x** the solution array\n",
    "- **success** a Boolean flag indicating if the optimizer exited successfully\n",
    "- **a message** which describes the cause of the termination.\n",
    "\n",
    "\n"
   ]
  },
  {
   "cell_type": "markdown",
   "id": "3aaedda8",
   "metadata": {},
   "source": [
    "### Compare to the LM method:"
   ]
  },
  {
   "cell_type": "markdown",
   "id": "b3433dde",
   "metadata": {},
   "source": [
    "## Example 2:  spectral fitting via $\\chi^2$:\n",
    "\n",
    "We are going to generate a noisy synthetic spectrum and use $\\chi^2$ minimisation to find the best-fit model.\n",
    "\n",
    "#### 1. Synthetic spectrum:\n",
    "\n",
    "Gaussian profile:\n",
    "\n",
    "$$g(x) = \\frac{1}{\\sigma\\sqrt{2\\pi}} \\exp\\left( -\\frac{1}{2} \\frac{(x - \\mu)^2}{\\sigma^2} \\right).$$"
   ]
  },
  {
   "cell_type": "markdown",
   "id": "a6f6bc2d",
   "metadata": {},
   "source": [
    "#### 2. Error bars"
   ]
  },
  {
   "cell_type": "markdown",
   "id": "2b08dd74",
   "metadata": {},
   "source": [
    "#### 3. LM fitting with curve_fit():"
   ]
  },
  {
   "cell_type": "markdown",
   "id": "edeb714e",
   "metadata": {},
   "source": [
    "#### 4. $\\chi^2$ fitting with curve_fit():"
   ]
  },
  {
   "cell_type": "markdown",
   "id": "30f2d815",
   "metadata": {},
   "source": [
    "#### 5. LM vs. $\\chi^2$ Method Comparison"
   ]
  },
  {
   "cell_type": "markdown",
   "id": "938f1761",
   "metadata": {},
   "source": [
    "#### 5. Goodness of fit test:\n",
    "\n",
    "We need to compute the $\\chi^2$ statistic to assess how good/bad was out fit."
   ]
  },
  {
   "cell_type": "markdown",
   "id": "c428cebd",
   "metadata": {},
   "source": [
    "#### 7. New model including baseline:"
   ]
  },
  {
   "cell_type": "code",
   "execution_count": null,
   "id": "a3c17532",
   "metadata": {},
   "outputs": [],
   "source": []
  }
 ],
 "metadata": {
  "kernelspec": {
   "display_name": "Python 3 (ipykernel)",
   "language": "python",
   "name": "python3"
  },
  "language_info": {
   "codemirror_mode": {
    "name": "ipython",
    "version": 3
   },
   "file_extension": ".py",
   "mimetype": "text/x-python",
   "name": "python",
   "nbconvert_exporter": "python",
   "pygments_lexer": "ipython3",
   "version": "3.7.16"
  }
 },
 "nbformat": 4,
 "nbformat_minor": 5
}
