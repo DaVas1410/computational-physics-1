{
 "cells": [
  {
   "cell_type": "markdown",
   "id": "245f2741-9b42-4e80-a78e-f3146e311b17",
   "metadata": {},
   "source": [
    "# Midterm Exam (part 2) - Computational Physics I\n",
    "\n",
    "### Date: Friday 18 October 2024\n",
    "### Credits: 10 points\n",
    "\n",
    "### Duration: 1 hour 15 minutes"
   ]
  },
  {
   "cell_type": "markdown",
   "id": "696a0787-f6e9-4dfa-bf4e-4ea8d42bfceb",
   "metadata": {},
   "source": [
    "## Name: "
   ]
  },
  {
   "cell_type": "markdown",
   "id": "62854cf1-5f89-4106-ba5a-5b0d1fe3c1f1",
   "metadata": {},
   "source": [
    "### Instructions:\n",
    "\n",
    "- When you finish, please send me the **.ipynb** file via email to wbanda@yachaytech.edu.ec\n",
    "\n",
    "\n",
    "- The exam is individual. Please include your name in the notebook.\n",
    "\n",
    "\n",
    "- Within a **single python notebook**, solve the following problems:"
   ]
  },
  {
   "cell_type": "markdown",
   "id": "df34b849-5304-47e9-8dfb-196ae4ceacd7",
   "metadata": {},
   "source": [
    "## 5. Image processing: identifying sunspots (10 points) \n",
    "\n",
    "The purpose of this problem is to isolate and image a sunspot, and then calculate its size.\n",
    "\n",
    "Sunspots are **dark spots on the Sun's surface that are cooler than the surrounding (brighter) areas due to intense magnetic activity**. They often appear in groups and are indicators of high Solar activity (called Solar maxima, which refer to the periods of peak solar activity during the Sun's 11-year solar cycle). We are currently within a Solar maxima period, which is expected to peak in July 2025. During such periods, sunspots, solar flares, and other solar phenomena are frequent.\n",
    "\n",
    "### SDO sunspot data: \n",
    "\n",
    "The Solar Dynamics Observatory (SDO), launched by NASA in 2010, continuously monitors the Sun, capturing high-resolution images of its atmosphere. Its Atmospheric Imaging Assembly (AIA) provides data in multiple wavelengths, allowing us to study Solar dynamics and sunspot formation. Today's Sun images can be found here: https://suntoday.lmsal.com/suntoday/?suntoday_date=2024-10-18).\n",
    "\n",
    "Please download the SDO data from: https://github.com/wbandabarragan/physics-teaching-data/tree/main/2D-data/f1700.fits\n",
    "\n",
    "This file has an image of the Sun at a wavelength of $1700\\,\\rm Å$, which observes the lower photosphere (i.e. the visible surface of the Sun). It shows the cooler layers of the Sun at temperatures of $5000-6000\\,\\rm K$). It also highlights bright regions associated with magnetic activity and sunspots, so it is ideal for this exercise.\n",
    "\n",
    "### Tasks:\n",
    "\n",
    "(a) Open the FITS file and inspect its content and structure. You should see a header and the data.\n",
    "\n",
    "(b) Create an I/O python function that reads in the filename and returns the header and the data as objects in a tuple.\n",
    "\n",
    "(c) Call your I/O function, store the header and data objects, and make a high-quality figure showing the image of the Sun with a colour bar in linear scale. For optimal sunspot visualisation, you will need to fix the limits of the colour bar and choose an adequate colour palette. How many sunspots can you visually spot?\n",
    "\n",
    "(d) Now you need to isolate a single sunspot. Select one target sunspot and use indexing to zoom into it. Make a high-quality figure showing the subset (zoomed-in) image of the Sun, containing your target sunspot.\n",
    "\n",
    "(e) Make a 1D histogram of pixel intensity within the subset (zoomed-in) image. Do the sunspots have low or high intensities?\n",
    "\n",
    "(f) Create a python function that isolates the area covered by the sunspot. Your function should read the subset image and return a cleaned binary image array with ones in the sunspot and zeroes outside.\n",
    "\n",
    "(g) Call your function and make a high-quality figure showing the binary image of the sunspot with an appropriate colour bar.\n",
    "\n",
    "(h) Using your binary image, calculate the total area in pixel units covered by the sunspot, and estimate the sunspot radius also in pixel units assuming that its area is circular, i.e. $A_{\\rm sunspot}=\\pi\\,r_{\\rm sunspot}^2$.\n",
    "\n",
    "(i) Now you need to calculate the sunspot radius in physical units ($\\rm km$). To do this, you first need to read from the FITS file the header information on the angular size of a pixel in the image (called \"CDELT1\" in units of $\\rm arcsec$). Use the header object returned in (c) and isolate the value of \"CDELT1\" from it. Then, convert it to a physical size (in $\\rm km$) using the Earth-Sun distance of $1.496\\times 10^8\\,\\rm km$ and trigonometry.\n",
    "\n",
    "(j) Use the calculated value of \"CDELT1\" (in $\\rm km$) to estimate the sunspot radius in $\\rm km$. Based on your results, are sunspots larger or smaller than the Earth? For reference, the Earth radius is $6.37\\times 10^3\\,\\rm km$."
   ]
  }
 ],
 "metadata": {
  "kernelspec": {
   "display_name": "Python 3 (ipykernel)",
   "language": "python",
   "name": "python3"
  },
  "language_info": {
   "codemirror_mode": {
    "name": "ipython",
    "version": 3
   },
   "file_extension": ".py",
   "mimetype": "text/x-python",
   "name": "python",
   "nbconvert_exporter": "python",
   "pygments_lexer": "ipython3",
   "version": "3.9.18"
  }
 },
 "nbformat": 4,
 "nbformat_minor": 5
}
