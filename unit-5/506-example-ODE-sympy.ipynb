{
 "cells": [
  {
   "cell_type": "markdown",
   "id": "a2559166-696f-4437-ae99-d91951bf344c",
   "metadata": {},
   "source": [
    "### Example: Damped Oscillations\n",
    "\n",
    "The 1D motion of a damped oscillator is described by the following ordinary differential equation (ODE):\n",
    "\n",
    "$$m\\frac{d^2x}{dt^2} = -kx - b\\frac{dx}{dt}$$\n",
    "\n",
    "where $m$ is the mass of the oscillator, $k$ is the force constant, and $b$ is the damping constant.\n",
    "\n",
    "\n",
    "(a) Find the general solution to this ODE, $x(t)$, using sympy.\n",
    "\n",
    "\n",
    "(b) Using the above result, write an expression and a python function for the angular frequency of the damped oscillator.\n",
    "\n",
    "\n",
    "(c) What is the condition, i.e. $b=b(k,m)$, for critically-damped oscillations? \n",
    "\n",
    "\n",
    "(d) If $m=0.2\\,\\rm kg$, $k=50\\,\\rm N\\,m^{-1}$, and $b=0.04\\,\\rm kg\\,s^{-1}$, do we expect critical damping, overdamping, or underdamping for this set of parameters?\n",
    "\n",
    "\n",
    "(e) Rewrite the solution, $x(t)$, by considering the above set of parameters as inputs and also that the oscillations start at $x(0)=10\\,\\rm m$.\n",
    "\n",
    "\n",
    "(f) Make a plot of the solution for this set of parameters ($x$ versus $t$). Label the plot appropriately.\n",
    "\n",
    "\n",
    "(g) Repeat the calculation for $b=0.1\\,\\rm kg\\,s^{-1}$ and make a new plot where both solutions are compared. Label the plots appropriately."
   ]
  },
  {
   "cell_type": "code",
   "execution_count": null,
   "id": "949cfef3-cfcf-4fba-823a-5b05a715686f",
   "metadata": {},
   "outputs": [],
   "source": []
  }
 ],
 "metadata": {
  "kernelspec": {
   "display_name": "Python 3 (ipykernel)",
   "language": "python",
   "name": "python3"
  },
  "language_info": {
   "codemirror_mode": {
    "name": "ipython",
    "version": 3
   },
   "file_extension": ".py",
   "mimetype": "text/x-python",
   "name": "python",
   "nbconvert_exporter": "python",
   "pygments_lexer": "ipython3",
   "version": "3.9.18"
  }
 },
 "nbformat": 4,
 "nbformat_minor": 5
}
