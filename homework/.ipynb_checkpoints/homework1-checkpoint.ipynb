{
 "cells": [
  {
   "cell_type": "markdown",
   "id": "aa268f46",
   "metadata": {
    "id": "aa268f46"
   },
   "source": [
    "# Homework 1: Greenhouse Gases and Climate change\n",
    "\n",
    "#### Deadline: Monday 14 October 2024 (by 5pm)\n",
    "\n",
    "#### Credits: 20 points"
   ]
  },
  {
   "cell_type": "markdown",
   "id": "68efa68c",
   "metadata": {
    "id": "68efa68c"
   },
   "source": [
    "## Name: "
   ]
  },
  {
   "cell_type": "markdown",
   "id": "b50caa6e",
   "metadata": {
    "id": "b50caa6e"
   },
   "source": [
    "- When you finish, please send me the **.ipynb** file via email to wbanda@yachaytech.edu.ec\n",
    "\n",
    "\n",
    "\n",
    "- This homework is individual. Please include your name in the notebook.\n",
    "\n",
    "\n",
    "\n",
    "- Within a **single python notebook**, solve the following problems:"
   ]
  },
  {
   "attachments": {},
   "cell_type": "markdown",
   "id": "250211ef",
   "metadata": {
    "id": "250211ef"
   },
   "source": [
    "## Problem 1. (9 points) Data I/O and regression: $\\rm CO_2$ emission\n",
    "\n",
    "This problem consists of reading, displaying, analysing, and modelling $\\rm CO_2$ concentration data from a monitoring station located in Kennaook/Cape Grim, Australia.\n",
    "\n",
    "The data files for this and the next exercises were downloaded from the CSIRO site:\n",
    "\n",
    "https://www.csiro.au/en/research/natural-environment/atmosphere/Latest-greenhouse-gas-data\n",
    "\n",
    "For this problem, you will use the following CSV file:\n",
    "\n",
    "https://github.com/wbandabarragan/physics-teaching-data/blob/main/1D-data/CapeGrim_CO2_data_download.csv\n",
    "\n",
    "\n",
    "### Tasks:\n",
    "\n",
    "(a) Inspect the structure of the file. Then, create a python function that uses **pandas** to read in the **CapeGrim_CO2_data_download.csv** file, skips the header, place the data into a pandas dataframe, and returns 3 columns as arrays, namely: \"DATE\", \"CO2(ppm)\", \"SD(ppm)\". The first one has the data collection times, the second one contains $\\rm CO_2$ concentrations in $\\rm ppm$, and the third one has the respective instrumental standard deviations also in $\\rm ppm$.\n",
    "\n",
    "(b) Now, you will rescale the uncertainties to more realistic values by multiplying the instrumental standard deviation by $10$, so $\\sigma=10\\,\\sigma_{\\rm instrumental}$. The instrumental uncertainties are very small, and there are unaccounted-for errors, such as systematic errors. A factor of $\\sim 10$ is a fine estimate for this data set.\n",
    "\n",
    "(c) Make a high-quality, labeled plot of the $\\rm CO_2$ concentrations (in $\\rm ppm$) versus time, including the y-error bars equal to the uncertainties calculated in (b).\n",
    "\n",
    "(d) How monotonic and linear is the relation between the two variables?\n",
    "\n",
    "(e) Now, you will carry out a regression on the data, assuming a simple linear regression model (**\"Model 1\"**) with 2 free parameters. Carry out a $\\chi^2$ minimisation, and report the resulting equation and figure. The figure should have a high-quality, labeled plot of the original data with error bars and the resulting best-fit line.\n",
    "\n",
    "(f) To perform a goodness-of-fit test, create a python function that calculates the global $\\chi^2$ statistic, the number of degrees of freedom, and the reduced $\\chi^2$ statistic. Briefly comment on your findings, is the linear model a good model?\n",
    "\n",
    "(g) Next, you can propose your own model (**\"Model 2\"**) for the data. Motivate and write down your model. Then, repeat steps (e) and (f) for your model and compare the reduced $\\chi^2$ statistic with that of the linear model. Which model is better? Hint: Keep the model simple with maximum 2 free parameters and avoid overfitting.\n",
    "\n",
    "(h) Finally, you will construct **2D confidence intervals** using the $\\chi^2$ statistic evaluated in the vicinity of the best-fit values for the free parameters of Models 1 and 2. Since both models have two free parameters, you should create python functions that compute and return the 2D $\\chi^2$ surface of each model onto the respective parameter space. Hints: to create a 2D parameter space as a meshgrid, you should first create vectors with numbers around the best-fit values found in your regressions. 1D plots showing $\\chi^2$ as a function of each parameter may help identify optimal numbers.\n",
    "\n",
    "(i) Make a high-quality, labeled, multi-panel figure showing the 2D $\\chi^2$ surface of each model: first in 3D, and then in projection with a marker showing the minimum and overimposed contours indicating at least two confidence levels. Briefly comment on your results highlighting the differences between the confidence intervals of both models. What do these maps tell us? Hint: the maps should have one of the free parameters in the X axis, the other free parameter in the Y axis, and the $\\chi^2$ surface in the Z axis."
   ]
  },
  {
   "cell_type": "markdown",
   "id": "c10ec8b1-2a5a-4a3d-80a7-cbddf02d223d",
   "metadata": {},
   "source": [
    "## Problem 2. (5 points) Interpolation: Greenhouse Gases\n",
    "\n",
    "In this problem, you will calculate and compare the amount of heating produced by three greenhouse gases:\n",
    "\n",
    "- $\\rm CO_2$, which you already analysed in the previous problem.\n",
    "\n",
    "- $\\rm CH_4$, whose data you can find here:\n",
    "  https://github.com/wbandabarragan/physics-teaching-data/blob/main/1D-data/CapeGrim_CH4_data_download.csv\n",
    "\n",
    "- $\\rm N_2O$, whose data you can find here:\n",
    "  https://github.com/wbandabarragan/physics-teaching-data/blob/main/1D-data/CapeGrim_N2O_data_download.csv\n",
    "\n",
    "All the data were taken by the same monitoring station in Australia. The new files for $\\rm CH_4$ and $\\rm N_2O$ have the same structure as the file for $\\rm CO_2$, but the concentrations and standard deviations are in units of $\\rm ppb$.\n",
    "\n",
    "### Tasks:\n",
    "\n",
    "(a) Repeat steps (a), (b) and (c) of problem 1 for $\\rm CH_4$ and $\\rm N_2O$. Which of the 3 greenhouse gases has higher and lower concentrations in the atmosphere? How many $\\rm dex$ apart are their concentrations? \n",
    "\n",
    "(b) Now, you will compute the the amount of heat (energy) trapped by the greenhouse gases in the atmosphere by computing the so-called **radiative forcing** ($\\Delta F$), which refers to the change in energy balance in the atmosphere due to greenhouse gas concentrations. For each gas the semi-empirical functions read:\n",
    "\n",
    "- For $\\rm CO_2$: $\\Delta F_{\\text{CO}_2} = \\alpha \\cdot \\ln\\left(\\frac{C}{C_0}\\right)$, where: $\\Delta F_{\\text{CO}_2}$ is the radiative forcing due to carbon dioxide ($\\rm W/m^2$), $\\alpha = 5.35 \\, \\rm W/m^2$, $C$ is the ctime-dependent concentration of $\\text{CO}_2 $ in $\\rm ppm$, and $C_0$ is the pre-industrial concentration of $\\text{CO}_2$ in $\\rm ppm$ (typically $=280$).\n",
    "\n",
    "- For $\\text{CH}_4$: $\\Delta F_{\\text{CH}_4} = \\beta \\cdot \\left(\\sqrt{M} - \\sqrt{M_0}\\right)$, where: $\\Delta F_{\\text{CH}_4}$ is the radiative forcing due to methane ($\\rm W/m^2$), $\\beta = 0.036 \\, \\rm W/m^2 $, $M$ is the time-dependent concentration of $\\rm CH_4$ in ppb, and $M_0$ is the pre-industrial concentration of $\\text{CH}_4$ in $\\rm ppb$ (typically $=700$).\n",
    "\n",
    "- For $\\rm N_2O$: $\\Delta F_{\\text{N}_2\\text{O}} = \\gamma \\cdot \\left(\\sqrt{N} - \\sqrt{N_0}\\right)$, where: $\\Delta F_{\\text{N}_2\\text{O}} $ is the radiative forcing due to nitrous oxide ($\\rm W/m^2$), $\\gamma = 0.12 \\, \\rm W/m^2$, $N$ is the time-dependent concentration of $\\rm N_2O$ in ppb, $N_0$ is the pre-industrial concentration of $\\text{N}_2\\text{O}$ in $\\rm ppb$ (typically $=270$).\n",
    "\n",
    "The full expressions can be found in this paper (see table 1): https://agupubs.onlinelibrary.wiley.com/doi/full/10.1002/2016GL071930\n",
    "\n",
    "(c) Make a single high-quality, labeled plot showing the **radiative forcings** ($\\Delta F$) of all three greenhouse gases in units of $\\rm W/m^2 $ (including the y-error bars) versus time. How many $\\rm dex$ apart are their contributions? Compare with your dex analysis in point (a) and discuss which gas has a higher warming potential.\n",
    "\n",
    "(d) Now, you need to calculate a **total radiative forcing** ($\\Delta F_{\\rm total}$) by adding all contributions, but you will notice the data sampling and time arrays do not match. Therefore, before you add the contributions, you will first need to interpolate the individual gas data onto a unified time domain. To achieve this, you should generate a new time array with a 1-year spacing. Then, use **scipy** to interpolate the **radiative forcings** ($\\Delta F$) of each gas onto the new time array. Report the interpolation results in a single figure showing the original data and the interpolated data.\n",
    "\n",
    "(e) Finally, use the interpolated data to calculate the **total radiative forcing** ($\\Delta F_{\\rm total}=\\Delta F_{\\text{CO}_2}+\\Delta F_{\\text{CH}_4}+\\Delta F_{\\text{N}_2\\text{O}}$). Report the result in a high-quality, labeled plot of $\\Delta F_{\\rm global}$ (in $\\rm W/m^2$) versus time in years."
   ]
  },
  {
   "cell_type": "markdown",
   "id": "cc0c31ba",
   "metadata": {
    "id": "cc0c31ba"
   },
   "source": [
    "## Problem 3. (6 points) Extrapolation: Global Warming\n",
    "\n",
    "In this problem, you will study the correlation between the total radiative forcing ($\\Delta F_{\\rm total}$) and the sea temperature anomaly, which is an indicator of global warming. The sea temperature anomaly ($\\Delta T_{\\rm sea}$ in $\\rm ^{\\circ}C$) is measured with respect to the average global sea surface temperature (SST) in the 1961-1990 period ($=13.97\\,\\rm ^{\\circ}C$). The observed data values are reported in this file:\n",
    "\n",
    "https://github.com/wbandabarragan/physics-teaching-data/blob/main/1D-data/temperature-anomaly.csv\n",
    "\n",
    "The file was taken from: https://ourworldindata.org\n",
    "\n",
    "### Tasks:\n",
    "\n",
    "(a) Create a python function that reads in the **temperature-anomaly.csv** file, selects the rows corresponding to the \"Southern Hemisphere\" anomaly, and returns the median temperature anomaly and symmetric $2\\sigma$ y-errors computed from the upper and lower bounds given in the file. **Hint:** to calculate the symmetric $2\\sigma$ y-errors, you can read the columns \"Upper bound (95% CI)\" and \"Lower bound (95% CI)\" and then average them.\n",
    "\n",
    "(b) Make a high-quality, labeled figure of the sea temperature anomaly (in $\\rm ^{\\circ}C$) versus time (in years), including the symmetric $2\\sigma$ y-errors for the temperature anomaly. What trend/s do you see? Briefly comment.\n",
    "\n",
    "(c) Since you want to study the correlation between the global radiative forcing ($\\Delta F_{\\rm total}$) from problem 2 and the sea temperature anomaly, both series need to cover the same time period in years. Use conditionals to select only the overlapping time periods, so that both data frames cover the same time ranges. Then, create and export (in CSV format) a new pandas data frame that contains 4 columns:\n",
    "\n",
    "- Year\n",
    "\n",
    "- Total radiative forcing ($\\Delta F_{\\rm total}$)\n",
    "\n",
    "- Sea temperature anomaly \n",
    "\n",
    "- $2\\sigma$ error in the sea temperature anommaly\n",
    "\n",
    "\n",
    "(d) Make a labeled scatter plot (using markers) of the sea temperature anomaly (including the $2\\sigma$ y-error bars) versus the total radiative forcing ($\\Delta F_{\\rm total}$. What trend/s do you see?\n",
    "\n",
    "(e) Assume a linear model and carry out a regression. Report the resulting equation and figure showing the original data, the linear fit, and the literature prediction line: $\\Delta T_{\\rm sea}=k\\,\\Delta F_{\\rm total}$, where $k=0.29\\pm0.08\\,\\rm ^{\\circ}C\\,m^2/W$. How well does your regression result compare to the literature? Briefly discuss your results.\n",
    "\n",
    "(f) Finally, you will make predictions for the future. Imagine the observed trends in greenhouse concentrations will continue in the next years. Use your regression model to predict $\\Delta T_{\\rm sea}$ in the years $2050$ and $2100$ via extrapolation. Report your results with uncertainties and show the expected trends in a figure. How much will the sea temperature have increased by those two years with respect to the reference SST?"
   ]
  }
 ],
 "metadata": {
  "colab": {
   "include_colab_link": true,
   "provenance": []
  },
  "kernelspec": {
   "display_name": "Python 3 (ipykernel)",
   "language": "python",
   "name": "python3"
  },
  "language_info": {
   "codemirror_mode": {
    "name": "ipython",
    "version": 3
   },
   "file_extension": ".py",
   "mimetype": "text/x-python",
   "name": "python",
   "nbconvert_exporter": "python",
   "pygments_lexer": "ipython3",
   "version": "3.9.18"
  }
 },
 "nbformat": 4,
 "nbformat_minor": 5
}
