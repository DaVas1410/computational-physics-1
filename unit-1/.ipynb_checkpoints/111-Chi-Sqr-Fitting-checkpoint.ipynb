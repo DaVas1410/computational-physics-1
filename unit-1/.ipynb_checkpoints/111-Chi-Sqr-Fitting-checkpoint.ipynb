{
 "cells": [
  {
   "cell_type": "markdown",
   "id": "4b551e2f",
   "metadata": {},
   "source": [
    "# $\\chi^2$ fitting/minimisation:\n",
    "\n",
    "Given the functional form:\n",
    "\n",
    "$r(p) = \\frac{y_i - f(x_i,p)}{\\sigma_i}$\n",
    "\n",
    "where $y_i$ are the data points and $f(x_i,p)$ is the model.\n",
    "\n",
    "\n",
    "$\\chi^2$ minimisation requires you to minimise it so that we find the best value of $p$:\n",
    "\n",
    "$\\min \\sum_1^N (r(p))^2$\n",
    "\n",
    "The advantage of this method is that you can include the uncertainties in $y_i$."
   ]
  },
  {
   "cell_type": "markdown",
   "id": "8ba0207d",
   "metadata": {},
   "source": [
    "## Example 1: Simple Pendulum\n",
    "\n",
    "Let's take a look at the simple pendulum experiment from physics 1.\n",
    "\n",
    "In the lab, you are normally asked to collect data points for differents lengths and periods of simple pendulum experiments. To collect each data point, we fix the length of the pendulum, move the pendulum bob by a small angle and release it. Subsequently, we use a chronometer to record the time ot takes for the bob to complete a period. Several measurementes can be collected to build up statistics."
   ]
  },
  {
   "cell_type": "markdown",
   "id": "0cdf30fe",
   "metadata": {},
   "source": [
    "### Length-period relation:\n",
    "\n",
    "The pendulum equations result in a physically-motivated model for the relationship between the lenght and period of the pendulum.\n",
    "\n",
    "$$T = 2\\pi\\sqrt{\\frac{L}{g}}$$\n",
    "\n",
    "$$T = \\frac{2\\pi}{\\sqrt{g}}\\sqrt{L}$$\n",
    "\n",
    "$$T = \\beta\\sqrt{L}$$\n"
   ]
  },
  {
   "cell_type": "markdown",
   "id": "9475e5a5",
   "metadata": {},
   "source": [
    "### Base example on LM regression:\n",
    "\n",
    "- We will carry out an LM regression using the averages."
   ]
  },
  {
   "cell_type": "code",
   "execution_count": 1,
   "id": "e1e905c1",
   "metadata": {},
   "outputs": [],
   "source": [
    "import numpy as np\n",
    "import matplotlib.pyplot as plt\n",
    "import pandas as pd"
   ]
  },
  {
   "cell_type": "code",
   "execution_count": 4,
   "id": "a38d7712",
   "metadata": {},
   "outputs": [],
   "source": [
    "# Place the data file into a pandas df\n",
    "\n",
    "def io_data(filename):\n",
    "    \"\"\"\n",
    "    This is an I/O function that opens the pendulum data\n",
    "    and return data arrays.\n",
    "    Input: filename (str)\n",
    "    Outputs: data arrays\n",
    "    \"\"\"\n",
    "    \n",
    "    # Create a pandas df\n",
    "    df = pd.read_csv(filename, sep = \",\")\n",
    "    \n",
    "    # Extract the arrays\n",
    "    lengthp = np.array(df[\"Length(m)\"])\n",
    "    period1 = np.array(df[\"Period1(s)\"])\n",
    "    period2 = np.array(df[\"Period2(s)\"])\n",
    "    period3 = np.array(df[\"Period3(s)\"])\n",
    "    period4 = np.array(df[\"Period4(s)\"])\n",
    "    period5 = np.array(df[\"Period5(s)\"])\n",
    "    \n",
    "    return lengthp, period1, period2, period3, period4, period5"
   ]
  },
  {
   "cell_type": "code",
   "execution_count": 18,
   "id": "03d52195",
   "metadata": {},
   "outputs": [
    {
     "name": "stdout",
     "output_type": "stream",
     "text": [
      "[0.53 0.92 1.17 1.27 1.37 1.52 1.66 1.81 1.94 1.99]\n",
      "[0.52 0.91 1.14 1.3  1.36 1.55 1.61 1.79 1.9  1.98]\n",
      "[0.6  0.93 1.15 1.31 1.4  1.56 1.69 1.82 1.92 2.04]\n",
      "[0.65 0.92 1.16 1.27 1.41 1.54 1.67 1.83 1.92 1.95]\n",
      "[0.59 0.89 1.18 1.29 1.42 1.53 1.65 1.83 1.93 1.96]\n"
     ]
    }
   ],
   "source": [
    "# Define the path to the file\n",
    "\n",
    "fname = \"../sample-data/data_pendulum.csv\"\n",
    "\n",
    "# Call our function \n",
    "\n",
    "l, t1, t2, t3, t4, t5 = io_data(fname)\n",
    "\n",
    "# Safe check\n",
    "print(t1)\n",
    "print(t2)\n",
    "print(t3)\n",
    "print(t4)\n",
    "print(t5)"
   ]
  },
  {
   "cell_type": "markdown",
   "id": "f928011a",
   "metadata": {},
   "source": [
    "### Calculate the mean and std of the period\n",
    "\n",
    "- np.mean()\n",
    "\n",
    "- np.std()"
   ]
  },
  {
   "cell_type": "code",
   "execution_count": 24,
   "id": "c3915b67",
   "metadata": {},
   "outputs": [
    {
     "name": "stdout",
     "output_type": "stream",
     "text": [
      "[0.578 0.914 1.16  1.288 1.392 1.54  1.656 1.816 1.922 1.984]\n",
      "[0.04791659 0.01356466 0.01414214 0.016      0.02315167 0.01414214\n",
      " 0.026533   0.01496663 0.0132665  0.03136877]\n"
     ]
    }
   ],
   "source": [
    "# Place the mean and std into:\n",
    "\n",
    "mean_t = np.mean(np.array([t1, t2, t3, t4, t5]), axis = 0)\n",
    "\n",
    "stdv_t = np.std(np.array([t1, t2, t3, t4, t5]), axis = 0)\n",
    "\n",
    "#print(mean_t.size)\n",
    "#print(stdv_t.size)\n",
    "\n",
    "print(mean_t)\n",
    "print(stdv_t)"
   ]
  },
  {
   "cell_type": "code",
   "execution_count": null,
   "id": "ead1265a",
   "metadata": {},
   "outputs": [],
   "source": []
  },
  {
   "cell_type": "code",
   "execution_count": null,
   "id": "66132b8e",
   "metadata": {},
   "outputs": [],
   "source": []
  },
  {
   "cell_type": "code",
   "execution_count": null,
   "id": "4c685fff",
   "metadata": {},
   "outputs": [],
   "source": []
  },
  {
   "cell_type": "markdown",
   "id": "c0051e5e",
   "metadata": {},
   "source": [
    "### Method 1. Using our own functions:"
   ]
  },
  {
   "cell_type": "markdown",
   "id": "fc0c27f1",
   "metadata": {},
   "source": [
    "### Method 2: Optimisation routine to minimise our $\\chi^2$ function:\n",
    "\n",
    "We will use minimize from scipy.optimize:\n",
    "\n",
    "We can use opt.minimize from the scipy package.\n",
    "\n",
    "\n",
    "https://docs.scipy.org/doc/scipy/reference/generated/scipy.optimize.minimize.html\n",
    "\n",
    "\n",
    "This function minimises a scalar function of one or more variables.\n",
    "\n",
    "\n",
    "The optimization result is represented as a OptimizeResult object with attributes:\n",
    "\n",
    "\n",
    "- **x** the solution array\n",
    "- **success** a Boolean flag indicating if the optimizer exited successfully\n",
    "- **a message** which describes the cause of the termination.\n",
    "\n",
    "\n"
   ]
  },
  {
   "cell_type": "markdown",
   "id": "3aaedda8",
   "metadata": {},
   "source": [
    "### Compare to the LM method:"
   ]
  },
  {
   "cell_type": "markdown",
   "id": "b3433dde",
   "metadata": {},
   "source": [
    "## Example 2:  spectral fitting via $\\chi^2$:\n",
    "\n",
    "We are going to generate a noisy synthetic spectrum and use $\\chi^2$ minimisation to find the best-fit model.\n",
    "\n",
    "#### 1. Synthetic spectrum:\n",
    "\n",
    "Gaussian profile:\n",
    "\n",
    "$$g(x) = \\frac{1}{\\sigma\\sqrt{2\\pi}} \\exp\\left( -\\frac{1}{2} \\frac{(x - \\mu)^2}{\\sigma^2} \\right).$$"
   ]
  },
  {
   "cell_type": "markdown",
   "id": "a6f6bc2d",
   "metadata": {},
   "source": [
    "#### 2. Error bars"
   ]
  },
  {
   "cell_type": "markdown",
   "id": "2b08dd74",
   "metadata": {},
   "source": [
    "#### 3. LM fitting with curve_fit():"
   ]
  },
  {
   "cell_type": "markdown",
   "id": "edeb714e",
   "metadata": {},
   "source": [
    "#### 4. $\\chi^2$ fitting with curve_fit():"
   ]
  },
  {
   "cell_type": "markdown",
   "id": "30f2d815",
   "metadata": {},
   "source": [
    "#### 5. LM vs. $\\chi^2$ Method Comparison"
   ]
  },
  {
   "cell_type": "markdown",
   "id": "938f1761",
   "metadata": {},
   "source": [
    "#### 5. Goodness of fit test:\n",
    "\n",
    "We need to compute the $\\chi^2$ statistic to assess how good/bad was out fit."
   ]
  },
  {
   "cell_type": "markdown",
   "id": "c428cebd",
   "metadata": {},
   "source": [
    "#### 7. New model including baseline:"
   ]
  },
  {
   "cell_type": "code",
   "execution_count": null,
   "id": "a3c17532",
   "metadata": {},
   "outputs": [],
   "source": []
  }
 ],
 "metadata": {
  "kernelspec": {
   "display_name": "Python 3 (ipykernel)",
   "language": "python",
   "name": "python3"
  },
  "language_info": {
   "codemirror_mode": {
    "name": "ipython",
    "version": 3
   },
   "file_extension": ".py",
   "mimetype": "text/x-python",
   "name": "python",
   "nbconvert_exporter": "python",
   "pygments_lexer": "ipython3",
   "version": "3.7.16"
  }
 },
 "nbformat": 4,
 "nbformat_minor": 5
}
