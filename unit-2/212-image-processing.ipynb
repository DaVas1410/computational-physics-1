{
 "cells": [
  {
   "cell_type": "markdown",
   "id": "80fa3299",
   "metadata": {},
   "source": [
    "# Exercise: Imaging of galaxies\n",
    "\n",
    "The purpose of the exercise is to image a galaxy and estimate its diameter.\n",
    "\n",
    "- conda install astropy\n",
    "\n",
    "- Astronomical images come in FITS format\n",
    "\n",
    "https://en.wikipedia.org/wiki/FITS\n",
    "\n",
    "- Let's download an image from: https://www2.mpia-hd.mpg.de/THINGS/Data.html"
   ]
  },
  {
   "cell_type": "markdown",
   "id": "1e2aa731",
   "metadata": {},
   "source": [
    "### Reference:\n",
    "\n",
    "https://ned.ipac.caltech.edu/byname?objname=NGC3184&hconst=67.8&omegam=0.308&omegav=0.692&wmap=4&corr_z=1"
   ]
  },
  {
   "cell_type": "code",
   "execution_count": null,
   "id": "83cf687e",
   "metadata": {},
   "outputs": [],
   "source": []
  }
 ],
 "metadata": {
  "kernelspec": {
   "display_name": "Python 3 (ipykernel)",
   "language": "python",
   "name": "python3"
  },
  "language_info": {
   "codemirror_mode": {
    "name": "ipython",
    "version": 3
   },
   "file_extension": ".py",
   "mimetype": "text/x-python",
   "name": "python",
   "nbconvert_exporter": "python",
   "pygments_lexer": "ipython3",
   "version": "3.9.18"
  }
 },
 "nbformat": 4,
 "nbformat_minor": 5
}
