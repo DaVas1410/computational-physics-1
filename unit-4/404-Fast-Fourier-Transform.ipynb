{
 "cells": [
  {
   "cell_type": "markdown",
   "id": "008e75c5",
   "metadata": {},
   "source": [
    "# Fast Fourier Transform (FFT)\n",
    "\n",
    "- DFT is slow.\n",
    "\n",
    "\n",
    "- FFT is an algorithm that computes the discrete Fourier transform (DFT) of a sequence, or its inverse (IDFT).\n",
    "\n",
    "\n",
    "- FFT exploits symmetries of the DFT to output results in a fraction of the time:\n",
    "\n",
    "$$X_k = \\sum_{n=0}^{N-1}{x_n\\cdot e^{-i2\\pi{kn/N}}}$$\n",
    "\n",
    "we can calculate the \n",
    " \n",
    "$$X_{k+N} = \\sum_{n=0}^{N-1}{x_n\\cdot e^{-i2\\pi{(k+N)n/N}}} = \\sum_{n=0}^{N-1}{x_n\\cdot e^{-i2\\pi{n}}\\cdot e^{-i2\\pi{kn/N}}}$$\n",
    "\n",
    "Note that, $e^{-i2\\pi{n}} = 1$, therefore, we have \n",
    "\n",
    "$$X_{k+N} = \\sum_{n=0}^{N-1}{x_n\\cdot e^{-i2\\pi{kn/N}}} = X_k$$\n",
    "\n",
    "Thus, we can have:\n",
    "\n",
    "$$X_{k+i\\cdot N} = X_k, \\text{ for any integer i}$$\n",
    "\n",
    "This means that within the DFT, we have symmetries that we can use to reduce the computation. \n",
    "\n",
    "\n",
    "- Fourier analysis converts a signal from its original domain (often time or space) to a representation in the (temporal or spatial) frequency domain and vice versa.\n",
    "\n",
    "\n",
    "- The DFT is obtained by decomposing a sequence of values into components of different frequencies. Computing it directly from the definition is often too slow to be practical.\n",
    "\n",
    "**References:**\n",
    "\n",
    "https://en.wikipedia.org/wiki/Fast_Fourier_transform\n",
    "\n",
    "https://pythonnumericalmethods.berkeley.edu/notebooks/chapter24.03-Fast-Fourier-Transform.html\n"
   ]
  },
  {
   "cell_type": "markdown",
   "id": "f8276439",
   "metadata": {},
   "source": [
    "### 1. DFT is slow:\n",
    "\n",
    "Apply the DFT to a cosine function that accepts different sampling rates:"
   ]
  },
  {
   "cell_type": "code",
   "execution_count": 1,
   "id": "ee2d8696",
   "metadata": {},
   "outputs": [],
   "source": [
    "import numpy as np\n",
    "import matplotlib.pyplot as plt"
   ]
  },
  {
   "cell_type": "code",
   "execution_count": 2,
   "id": "9225bb20",
   "metadata": {},
   "outputs": [],
   "source": [
    "def DFT_function(signal):\n",
    "    \n",
    "    N = len(signal)\n",
    "    \n",
    "    n = np.arange(0,N)\n",
    "    \n",
    "    k = n.reshape((N, 1))\n",
    "    \n",
    "    exp_term = np.exp(-2j*np.pi*k*n/N)\n",
    "    \n",
    "    chi = np.dot(exp_term, signal)\n",
    "    \n",
    "    return chi"
   ]
  },
  {
   "cell_type": "code",
   "execution_count": 3,
   "id": "2fcb914a",
   "metadata": {},
   "outputs": [],
   "source": [
    "def cos_function(sampling_rate):\n",
    "    \n",
    "    t_sampling = 1.0/sampling_rate\n",
    "    \n",
    "    t = np.arange(0, 1.0, t_sampling)\n",
    "    \n",
    "    freq = 1.\n",
    "    \n",
    "    signal = np.cos(2*np.pi*freq*t)\n",
    "    \n",
    "    return t, signal"
   ]
  },
  {
   "cell_type": "code",
   "execution_count": 4,
   "id": "3a651c64",
   "metadata": {},
   "outputs": [],
   "source": [
    "# Call the X and Y vectors:\n",
    "\n",
    "sr1 = 10\n",
    "sr2 = 100\n",
    "sr3 = 1000\n",
    "\n",
    "xx1, yy1 = cos_function(sr1)\n",
    "\n",
    "xx2, yy2 = cos_function(sr2)\n",
    "\n",
    "xx3, yy3 = cos_function(sr3)\n"
   ]
  },
  {
   "cell_type": "markdown",
   "id": "8a641cef",
   "metadata": {},
   "source": [
    "### Plotting:"
   ]
  },
  {
   "cell_type": "code",
   "execution_count": 5,
   "id": "062f1bf8",
   "metadata": {},
   "outputs": [
    {
     "data": {
      "image/png": "[encoded data removed]",
      "text/plain": [
       "<Figure size 500x300 with 1 Axes>"
      ]
     },
     "metadata": {},
     "output_type": "display_data"
    }
   ],
   "source": [
    "plt.figure(figsize=(5,3))\n",
    "\n",
    "plt.plot(xx1, yy1, label = \"10\")\n",
    "plt.plot(xx2, yy2, label = \"100\")\n",
    "plt.plot(xx3, yy3, linestyle= \":\",  label = \"1000\")\n",
    "\n",
    "plt.legend()\n",
    "plt.show()"
   ]
  },
  {
   "cell_type": "markdown",
   "id": "381c5880",
   "metadata": {},
   "source": [
    "### Measuring execution time\n",
    "\n",
    "%timeit:\n",
    "\n",
    "https://docs.python.org/3/library/timeit.html"
   ]
  },
  {
   "cell_type": "code",
   "execution_count": 6,
   "id": "70c86624",
   "metadata": {},
   "outputs": [
    {
     "name": "stdout",
     "output_type": "stream",
     "text": [
      "4.12 µs ± 19.8 ns per loop (mean ± std. dev. of 7 runs, 100,000 loops each)\n",
      "183 µs ± 9.07 µs per loop (mean ± std. dev. of 7 runs, 10,000 loops each)\n",
      "15 ms ± 401 µs per loop (mean ± std. dev. of 7 runs, 100 loops each)\n"
     ]
    }
   ],
   "source": [
    "%timeit DFT_function(yy1) # for sampling rate 1 - sr1 = 10\n",
    "%timeit DFT_function(yy2) # for sampling rate 2 - sr2 = 100\n",
    "%timeit DFT_function(yy3) # for sampling rate 3 - sr3 = 1000"
   ]
  },
  {
   "cell_type": "markdown",
   "id": "312bd7dc",
   "metadata": {},
   "source": [
    "## 2. FFT algorithm:\n",
    "\n",
    "\n",
    "\n",
    "\n",
    "- An FFT rapidly computes such transformations by Matrix decomposition, i.e. the DFT matrix into a product of Sparse matrix (mostly zero) factors. As a result, it manages to reduce the computational complexity of computing the DFT from $O\\left(N^2\\right)$, which arises if one simply applies the definition of DFT, to $O(N \\log N)$, where $N$ is the data size.\n",
    "\n",
    "\n",
    "If we need to calculate both $X_k$ and $X_{k+N}$, we only need to do this once. This is exactly the idea behind the FFT. Cooley and Tukey showed that we can calculate DFT more efficiently if we continue to divide the problem into smaller ones. Let's first divide the whole series into two parts, i.e. the even number part and the odd number part:\n",
    "\n",
    "\\begin{eqnarray*}\n",
    "X_{k} &=& \\sum_{n=0}^{N-1}{x_n\\cdot e^{-i2\\pi{kn/N}}} \\\\\n",
    "      &=& \\sum_{m=0}^{N/2-1}{x_{2m}\\cdot e^{-i2\\pi{k(2m)/N}}} + \\sum_{m=0}^{N/2-1}{x_{2m+1}\\cdot e^{-i2\\pi{k(2m+1)/N}}} \\\\\n",
    "      &=& \\sum_{m=0}^{N/2-1}{x_{2m}\\cdot e^{-i2\\pi{km/(N/2)}}} + e^{-i2\\pi{k/N}}\\sum_{m=0}^{N/2-1}{x_{2m+1}\\cdot e^{-i2\\pi{km/(N/2)}}}\n",
    "\\end{eqnarray*}\n",
    "\n",
    "The two smaller terms which only have half of the size ($\\frac{N}{2}$) in the above equation are two smaller DFTs. For each term, the $ 0\\leq m \\le \\frac{N}{2}$, but $ 0\\leq k \\le N$, therefore, we can see that half of the values will be the same due to the symmetry properties we described above. Thus, we only need to calculate half of the fields in each term. Of course, we don't need to stop here, we can continue to divide each term into half with the even and odd values until it reaches the last two numbers, then calculation will be really simple. \n",
    "\n",
    "This is how FFT works using this recursive approach.\n",
    "\n",
    "\n",
    "- The difference in speed can be enormous, especially for long data sets where ''N'' may be in the thousands or millions. In the presence of round-off error, many FFT algorithms are much more accurate than evaluating the DFT definition directly or indirectly."
   ]
  },
  {
   "cell_type": "markdown",
   "id": "0d1564c0-11ef-4a45-9044-096d8457d368",
   "metadata": {},
   "source": [
    "#### This is for understading the FFT implementation:"
   ]
  },
  {
   "cell_type": "code",
   "execution_count": 7,
   "id": "54eb269d",
   "metadata": {},
   "outputs": [
    {
     "name": "stdout",
     "output_type": "stream",
     "text": [
      "[0 2 4 6]\n",
      "[1 3 5 7]\n"
     ]
    }
   ],
   "source": [
    "# Generate even and odd series\n",
    "\n",
    "x = np.array([0, 1, 2, 3, 4, 5, 6, 7])\n",
    "\n",
    "x_even = x[::2]\n",
    "print(x_even)\n",
    "\n",
    "x_odd = x[1::2]\n",
    "print(x_odd)"
   ]
  },
  {
   "cell_type": "code",
   "execution_count": 8,
   "id": "5387c737-2ec5-4b12-848f-50f05397a0e6",
   "metadata": {},
   "outputs": [
    {
     "name": "stdout",
     "output_type": "stream",
     "text": [
      "[[1 2]\n",
      " [3 4]]\n",
      "[[5 6]\n",
      " [7 8]]\n"
     ]
    }
   ],
   "source": [
    "# Concatanate:\n",
    "\n",
    "a = np.array([[1, 2],[3, 4]])\n",
    "\n",
    "b = np.array([[5, 6],[7, 8]])\n",
    "\n",
    "print(a)\n",
    "print(b)"
   ]
  },
  {
   "cell_type": "code",
   "execution_count": 9,
   "id": "2693d126",
   "metadata": {},
   "outputs": [
    {
     "name": "stdout",
     "output_type": "stream",
     "text": [
      "[[1 2 5 6]\n",
      " [3 4 7 8]]\n",
      "\n",
      "[[1 2]\n",
      " [3 4]\n",
      " [5 6]\n",
      " [7 8]]\n",
      "\n",
      "[[1 2]\n",
      " [3 4]\n",
      " [5 6]\n",
      " [7 8]]\n"
     ]
    }
   ],
   "source": [
    "c1 = np.concatenate([a, b], axis= 1)\n",
    "\n",
    "c2 = np.concatenate([a, b], axis= 0)\n",
    "\n",
    "c3 = np.concatenate([a, b])\n",
    "\n",
    "print(c1)\n",
    "print(\"\")\n",
    "print(c2)\n",
    "print(\"\")\n",
    "print(c3)"
   ]
  },
  {
   "cell_type": "markdown",
   "id": "4cfb2125",
   "metadata": {},
   "source": [
    "\\begin{eqnarray*}\n",
    "X_{k} &=& \\sum_{n=0}^{N-1}{x_n\\cdot e^{-i2\\pi{kn/N}}} \\\\\n",
    "      &=& \\sum_{m=0}^{N/2-1}{x_{2m}\\cdot e^{-i2\\pi{k(2m)/N}}} + \\sum_{m=0}^{N/2-1}{x_{2m+1}\\cdot e^{-i2\\pi{k(2m+1)/N}}} \\\\\n",
    "      &=& \\sum_{m=0}^{N/2-1}{x_{2m}\\cdot e^{-i2\\pi{km/(N/2)}}} + e^{-i2\\pi{k/N}}\\sum_{m=0}^{N/2-1}{x_{2m+1}\\cdot e^{-i2\\pi{km/(N/2)}}}\n",
    "\\end{eqnarray*}"
   ]
  },
  {
   "cell_type": "code",
   "execution_count": 10,
   "id": "8b4fc2d8",
   "metadata": {},
   "outputs": [],
   "source": [
    "def FFT_function(signal):\n",
    "    \n",
    "    N = len(signal)\n",
    "    \n",
    "    if N == 1:\n",
    "        return signal\n",
    "    \n",
    "    else:\n",
    "        \n",
    "        X_even = FFT_function(signal[::2])\n",
    "        \n",
    "        X_odd  = FFT_function(signal[1::2])\n",
    "        \n",
    "        k = np.arange(N)\n",
    "        e_factor = np.exp(-2j*np.pi*k / N)\n",
    "        \n",
    "        X_k = np.concatenate([X_even + e_factor[:int(N/2)]*X_odd, X_even + e_factor[int(N/2):]*X_odd])\n",
    "        \n",
    "        return X_k\n",
    "    "
   ]
  },
  {
   "cell_type": "markdown",
   "id": "6cdd0e22",
   "metadata": {},
   "source": [
    "## Example:\n",
    "\n",
    "(a) Generate 3 sine waves with frequencies $1\\rm Hz$, $5 Hz$, and $8 Hz$, amplitudes $4$, $2$ and $0.25$, and phase all zeros.\n",
    "\n",
    "(b) Plot this $3$ sine waves together with a sampling rate $128 Hz$.\n",
    "\n",
    "(c) Calculate the DFT and the FFT of the resulting signal and return the DFT values."
   ]
  },
  {
   "cell_type": "code",
   "execution_count": 11,
   "id": "1bab8077",
   "metadata": {},
   "outputs": [],
   "source": [
    "def sine_wave(amp, freq, t):\n",
    "    # amp  = amplitude\n",
    "    # freq = frequency\n",
    "    # t    = time_axis\n",
    "    \n",
    "    return amp*np.sin(2*np.pi*freq*t)"
   ]
  },
  {
   "cell_type": "code",
   "execution_count": 12,
   "id": "9ba6ca2d",
   "metadata": {},
   "outputs": [],
   "source": [
    "# sampling rate\n",
    "s_rate = 128 #Hz\n",
    "\n",
    "# sampling interval\n",
    "a = 0.0\n",
    "b = 1.0\n",
    "s_interval = (b - a)/s_rate\n",
    "\n",
    "# t_axis\n",
    "t = np.arange(a, b, s_interval)\n",
    "\n",
    "# y axis\n",
    "signal_3 = sine_wave(4,1,t) + sine_wave(2,5,t) + sine_wave(0.25,8,t)"
   ]
  },
  {
   "cell_type": "markdown",
   "id": "b2a76a9b",
   "metadata": {},
   "source": [
    "### Plotting:\n"
   ]
  },
  {
   "cell_type": "code",
   "execution_count": 13,
   "id": "6fd45ec9",
   "metadata": {},
   "outputs": [
    {
     "data": {
      "image/png": "[encoded data removed]",
      "text/plain": [
       "<Figure size 500x400 with 1 Axes>"
      ]
     },
     "metadata": {},
     "output_type": "display_data"
    }
   ],
   "source": [
    "plt.figure(figsize = (5, 4))\n",
    "plt.plot(t, signal_3, 'r')\n",
    "plt.xlabel('Time')\n",
    "plt.ylabel('Amplitude')\n",
    "\n",
    "plt.show()"
   ]
  },
  {
   "cell_type": "markdown",
   "id": "81537401",
   "metadata": {},
   "source": [
    "### Fourier:"
   ]
  },
  {
   "cell_type": "code",
   "execution_count": 15,
   "id": "03840c71",
   "metadata": {},
   "outputs": [],
   "source": [
    "fourier_s3 = FFT_function(signal_3)\n",
    "\n",
    "#print(fourier_s3)"
   ]
  },
  {
   "cell_type": "markdown",
   "id": "feb9cfb5",
   "metadata": {},
   "source": [
    "### Calculating frequencies:\n"
   ]
  },
  {
   "cell_type": "code",
   "execution_count": 16,
   "id": "aafcd3ba",
   "metadata": {},
   "outputs": [],
   "source": [
    "# calculate the frequency\n",
    "N3 = len(fourier_s3)\n",
    "n3 = np.arange(N3)\n",
    "T3 = N3/s_rate\n",
    "freq3 = n3/T3 "
   ]
  },
  {
   "cell_type": "markdown",
   "id": "e5bd95ca",
   "metadata": {},
   "source": [
    "### Fourier plot:"
   ]
  },
  {
   "cell_type": "code",
   "execution_count": 19,
   "id": "07450273",
   "metadata": {},
   "outputs": [
    {
     "data": {
      "image/png": "[encoded data removed]",
      "text/plain": [
       "<Figure size 1100x400 with 1 Axes>"
      ]
     },
     "metadata": {},
     "output_type": "display_data"
    }
   ],
   "source": [
    "plt.figure(figsize = (11, 4))\n",
    "plt.stem(freq3, abs(fourier_s3), 'b', markerfmt=\" \", basefmt=\"-b\")\n",
    "plt.xlabel('Freq (Hz)')\n",
    "plt.ylabel('FFT Amplitude |X(freq)|')\n",
    "plt.show()"
   ]
  },
  {
   "cell_type": "code",
   "execution_count": 20,
   "id": "b32cd41e",
   "metadata": {},
   "outputs": [
    {
     "data": {
      "image/png": "[encoded data removed]",
      "text/plain": [
       "<Figure size 1100x400 with 1 Axes>"
      ]
     },
     "metadata": {},
     "output_type": "display_data"
    }
   ],
   "source": [
    "plt.figure(figsize = (11, 4))\n",
    "plt.stem(freq3[:N3//2], abs(fourier_s3)[:N3//2]/(N3//2), 'b', markerfmt=\" \", basefmt=\"-b\")\n",
    "plt.xlabel('Freq (Hz)')\n",
    "plt.ylabel('FFT Amplitude |X(freq)|')\n",
    "\n",
    "plt.xlim(0,10)\n",
    "plt.show()"
   ]
  },
  {
   "cell_type": "markdown",
   "id": "da654418",
   "metadata": {},
   "source": [
    "### IMPORTANT: Normalisation -> correct amplitudes"
   ]
  },
  {
   "cell_type": "code",
   "execution_count": 21,
   "id": "1576b4c1",
   "metadata": {},
   "outputs": [],
   "source": [
    "A = abs(fourier_s3)[:N3//2]/(N3//2)"
   ]
  },
  {
   "cell_type": "code",
   "execution_count": 22,
   "id": "1d751e73",
   "metadata": {},
   "outputs": [
    {
     "data": {
      "text/plain": [
       "array([4.37788092e-17, 4.00000000e+00, 2.32096726e-16, 1.47289908e-16,\n",
       "       1.49779608e-16, 2.00000000e+00, 3.31367953e-16, 2.10743052e-16,\n",
       "       2.50000000e-01, 8.12565031e-17, 1.60915222e-16, 1.42607252e-16,\n",
       "       3.57934559e-16, 1.19276400e-16, 1.92557517e-16, 5.12384361e-16,\n",
       "       6.49473587e-17, 1.39064836e-16, 1.93583648e-16, 7.07361881e-17,\n",
       "       2.94169405e-16, 2.15281122e-16, 5.78724785e-17, 1.75985542e-16,\n",
       "       1.82574339e-16, 3.04229608e-16, 2.83858944e-16, 1.18554683e-16,\n",
       "       3.86895113e-16, 3.99130203e-16, 4.17831390e-16, 5.45272080e-16,\n",
       "       1.69578165e-16, 2.51537663e-16, 2.69230076e-16, 6.94955874e-17,\n",
       "       2.37580055e-16, 9.60066907e-17, 3.77154072e-16, 5.99407976e-16,\n",
       "       3.59051168e-16, 1.50286776e-16, 7.38105142e-17, 4.60169043e-17,\n",
       "       9.21510204e-17, 5.57630375e-17, 2.73016709e-16, 3.44577577e-16,\n",
       "       3.31887690e-16, 1.27503184e-16, 2.48806992e-16, 2.03810272e-16,\n",
       "       6.86617033e-17, 7.22194120e-17, 2.68063978e-16, 2.80698116e-16,\n",
       "       4.76711272e-16, 1.36823166e-16, 3.54987045e-16, 1.99296607e-16,\n",
       "       2.49418608e-16, 5.55709944e-17, 3.48072330e-16, 2.52193432e-16])"
      ]
     },
     "execution_count": 22,
     "metadata": {},
     "output_type": "execute_result"
    }
   ],
   "source": [
    "A[:]"
   ]
  },
  {
   "cell_type": "markdown",
   "id": "b3ea3cf7",
   "metadata": {},
   "source": [
    "## Comparisons between DFT and FFT:\n",
    "\n",
    "We go back to the initial problem wwith a cosine function with different sampling rates:"
   ]
  },
  {
   "cell_type": "code",
   "execution_count": 29,
   "id": "f8784915-b078-47cc-9fa4-ffc39c66ced0",
   "metadata": {},
   "outputs": [
    {
     "name": "stdout",
     "output_type": "stream",
     "text": [
      "N =  10 N^2 =  100 Nlog_2(N)=  33.219280948873624 ratio =  3.0102999566398116\n",
      "N =  100 N^2 =  10000 Nlog_2(N)=  664.3856189774724 ratio =  15.051499783199061\n",
      "N =  10000 N^2 =  100000000 Nlog_2(N)=  132877.1237954945 ratio =  752.574989159953\n",
      "N =  100000000 N^2 =  10000000000000000 Nlog_2(N)=  2657542475.9098897 ratio =  3762874.945799765\n"
     ]
    }
   ],
   "source": [
    "N = 10\n",
    "print(\"N = \", N, \"N^2 = \", N**2, \"Nlog_2(N)= \", N*np.log2(N), \"ratio = \", N**2/(N*np.log2(N)))\n",
    "\n",
    "N = 100\n",
    "print(\"N = \", N, \"N^2 = \", N**2, \"Nlog_2(N)= \", N*np.log2(N), \"ratio = \", N**2/(N*np.log2(N)))\n",
    "\n",
    "N = 10**4\n",
    "print(\"N = \", N, \"N^2 = \", N**2, \"Nlog_2(N)= \", N*np.log2(N), \"ratio = \", N**2/(N*np.log2(N)))\n",
    "\n",
    "N = 10**8\n",
    "print(\"N = \", N, \"N^2 = \", N**2, \"Nlog_2(N)= \", N*np.log2(N), \"ratio = \", N**2/(N*np.log2(N)))"
   ]
  },
  {
   "cell_type": "code",
   "execution_count": 30,
   "id": "77a21180",
   "metadata": {},
   "outputs": [],
   "source": [
    "def cos_function(sampling_rate):\n",
    "    \n",
    "    t_sampling = 1.0/sampling_rate\n",
    "    t = np.arange(0,1,t_sampling)\n",
    "\n",
    "    freq = 1.\n",
    "    signal = np.cos(2*np.pi*freq*t)\n",
    "    \n",
    "    return signal"
   ]
  },
  {
   "cell_type": "code",
   "execution_count": 43,
   "id": "4d95c887",
   "metadata": {},
   "outputs": [],
   "source": [
    "sr4 = 4096"
   ]
  },
  {
   "cell_type": "code",
   "execution_count": 44,
   "id": "948b2272",
   "metadata": {},
   "outputs": [
    {
     "name": "stdout",
     "output_type": "stream",
     "text": [
      "268 ms ± 6.92 ms per loop (mean ± std. dev. of 7 runs, 1 loop each)\n",
      "15.2 ms ± 118 µs per loop (mean ± std. dev. of 7 runs, 10 loops each)\n"
     ]
    }
   ],
   "source": [
    "%timeit DFT_function(cos_function(sr4)) # for sampling rate 4 - sr4 = 2048\n",
    "%timeit FFT_function(cos_function(sr4)) # for sampling rate 4 - sr4 = 2048"
   ]
  },
  {
   "cell_type": "code",
   "execution_count": 46,
   "id": "20c6449e",
   "metadata": {},
   "outputs": [
    {
     "name": "stdout",
     "output_type": "stream",
     "text": [
      "341.3333333333333 17.63157894736842\n"
     ]
    }
   ],
   "source": [
    "DFT_time = sr4**2\n",
    "FFT_time = sr4*np.log2(sr4)\n",
    "\n",
    "ratio = DFT_time/FFT_time\n",
    "\n",
    "print(ratio, 268/15.2)"
   ]
  },
  {
   "cell_type": "markdown",
   "id": "949a7680",
   "metadata": {},
   "source": [
    "### Inverse Fourier transform"
   ]
  },
  {
   "cell_type": "code",
   "execution_count": 47,
   "id": "ac1033a1",
   "metadata": {},
   "outputs": [],
   "source": [
    "signal_invF = np.fft.ifft(fourier_s3)"
   ]
  },
  {
   "cell_type": "code",
   "execution_count": 49,
   "id": "a94603a9",
   "metadata": {},
   "outputs": [
    {
     "data": {
      "image/png": "[encoded data removed]",
      "text/plain": [
       "<Figure size 1100x400 with 1 Axes>"
      ]
     },
     "metadata": {},
     "output_type": "display_data"
    }
   ],
   "source": [
    "plt.figure(figsize = (11, 4))\n",
    "plt.plot(t, signal_invF, 'r')\n",
    "plt.plot(t, signal_3, 'b', linestyle = ':')\n",
    "plt.xlabel('Time')\n",
    "plt.ylabel('Amplitude')\n",
    "\n",
    "plt.show()"
   ]
  },
  {
   "cell_type": "code",
   "execution_count": null,
   "id": "31e98788",
   "metadata": {},
   "outputs": [],
   "source": []
  }
 ],
 "metadata": {
  "kernelspec": {
   "display_name": "Python 3 (ipykernel)",
   "language": "python",
   "name": "python3"
  },
  "language_info": {
   "codemirror_mode": {
    "name": "ipython",
    "version": 3
   },
   "file_extension": ".py",
   "mimetype": "text/x-python",
   "name": "python",
   "nbconvert_exporter": "python",
   "pygments_lexer": "ipython3",
   "version": "3.9.18"
  }
 },
 "nbformat": 4,
 "nbformat_minor": 5
}
