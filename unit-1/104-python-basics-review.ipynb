{
<<<<<<< HEAD
 "cells": [
  {
   "cell_type": "markdown",
   "metadata": {
    "colab_type": "text",
    "id": "view-in-github"
   },
   "source": [
    "<a href=\"https://colab.research.google.com/github/wbandabarragan/computational-physics-1/blob/main/unit-1/104-python-basics-review.ipynb\" target=\"_parent\"><img src=\"https://colab.research.google.com/assets/colab-badge.svg\" alt=\"Open In Colab\"/></a>"
   ]
  },
  {
   "cell_type": "markdown",
   "metadata": {
    "id": "-ikQUYqdrCKY"
   },
   "source": [
    "# Basic Operations with Python\n",
    "\n",
    "Python can be used as a scientific calculator.\n",
    "\n",
    "This only requires lauching an interpreter and using the correct syntax to carry out mathematical operations.\n",
    "\n",
    "## 1. Math operations:"
   ]
  },
  {
   "cell_type": "code",
   "execution_count": 1,
   "metadata": {
    "colab": {
     "base_uri": "https://localhost:8080/"
=======
  "nbformat": 4,
  "nbformat_minor": 0,
  "metadata": {
    "colab": {
      "provenance": [],
      "include_colab_link": true
    },
    "kernelspec": {
      "name": "python3",
      "display_name": "Python 3"
    },
    "language_info": {
      "name": "python"
    }
  },
  "cells": [
    {
      "cell_type": "markdown",
      "metadata": {
        "id": "view-in-github",
        "colab_type": "text"
      },
      "source": [
        "<a href=\"https://colab.research.google.com/github/wbandabarragan/computational-physics-1/blob/main/unit-1/104-python-basics-review.ipynb\" target=\"_parent\"><img src=\"https://colab.research.google.com/assets/colab-badge.svg\" alt=\"Open In Colab\"/></a>"
      ]
    },
    {
      "cell_type": "markdown",
      "source": [
        "# Basic Operations with Python\n",
        "\n",
        "Python can be used as a scientific calculator.\n",
        "\n",
        "This only requires lauching an interpreter and using the correct syntax to carry out mathematical operations.\n",
        "\n",
        "## 1. Math operations:"
      ],
      "metadata": {
        "id": "-ikQUYqdrCKY"
      }
    },
    {
      "cell_type": "code",
      "execution_count": 2,
      "metadata": {
        "colab": {
          "base_uri": "https://localhost:8080/"
        },
        "id": "hWEfDJGXq81n",
        "outputId": "99e1f816-b9d4-40d9-ed18-b64284e5fa16"
      },
      "outputs": [
        {
          "output_type": "execute_result",
          "data": {
            "text/plain": [
              "4"
            ]
          },
          "metadata": {},
          "execution_count": 2
        }
      ],
      "source": [
        "# Addition\n",
        "\n",
        "1 + 3"
      ]
    },
    {
      "cell_type": "code",
      "source": [
        "# Multiplication/Division\n",
        "\n",
        "(2 * 10)/(5)"
      ],
      "metadata": {
        "colab": {
          "base_uri": "https://localhost:8080/"
        },
        "id": "CpGYG6P7rGFM",
        "outputId": "3c453ca3-8469-4f9a-fb65-d38d27e4ee47"
      },
      "execution_count": 3,
      "outputs": [
        {
          "output_type": "execute_result",
          "data": {
            "text/plain": [
              "4.0"
            ]
          },
          "metadata": {},
          "execution_count": 3
        }
      ]
    },
    {
      "cell_type": "code",
      "source": [
        "_*7"
      ],
      "metadata": {
        "colab": {
          "base_uri": "https://localhost:8080/"
        },
        "id": "1_n2x8FKrUyf",
        "outputId": "bb6f0b01-e8be-4c5b-f00b-035b58b7607f"
      },
      "execution_count": 4,
      "outputs": [
        {
          "output_type": "execute_result",
          "data": {
            "text/plain": [
              "28.0"
            ]
          },
          "metadata": {},
          "execution_count": 4
        }
      ]
    },
    {
      "cell_type": "code",
      "source": [
        "# Exponentiation\n",
        "\n",
        "(2)**(3)"
      ],
      "metadata": {
        "colab": {
          "base_uri": "https://localhost:8080/"
        },
        "id": "eMVJY-V8PJJP",
        "outputId": "c005b214-cf55-4b2a-8d05-486991a0d015"
      },
      "execution_count": 5,
      "outputs": [
        {
          "output_type": "execute_result",
          "data": {
            "text/plain": [
              "8"
            ]
          },
          "metadata": {},
          "execution_count": 5
        }
      ]
    },
    {
      "cell_type": "markdown",
      "source": [
        "# 2. The math library:"
      ],
      "metadata": {
        "id": "IUKzAM_XrkGL"
      }
    },
    {
      "cell_type": "code",
      "source": [
        "import math"
      ],
      "metadata": {
        "id": "CwkZrpucrgRF"
      },
      "execution_count": 6,
      "outputs": []
    },
    {
      "cell_type": "code",
      "source": [
        "math.cos(0)"
      ],
      "metadata": {
        "colab": {
          "base_uri": "https://localhost:8080/"
        },
        "id": "flEvprGUrxQd",
        "outputId": "8245388d-0dc9-41da-db7f-dc5c50d03c7b"
      },
      "execution_count": 7,
      "outputs": [
        {
          "output_type": "execute_result",
          "data": {
            "text/plain": [
              "1.0"
            ]
          },
          "metadata": {},
          "execution_count": 7
        }
      ]
    },
    {
      "cell_type": "code",
      "source": [
        "math.sqrt(4)"
      ],
      "metadata": {
        "colab": {
          "base_uri": "https://localhost:8080/"
        },
        "id": "0pk3dgLosWie",
        "outputId": "2add0657-fa02-48dc-a2e8-8eb6df581991"
      },
      "execution_count": 8,
      "outputs": [
        {
          "output_type": "execute_result",
          "data": {
            "text/plain": [
              "2.0"
            ]
          },
          "metadata": {},
          "execution_count": 8
        }
      ]
    },
    {
      "cell_type": "code",
      "source": [
        "math.exp(2)"
      ],
      "metadata": {
        "colab": {
          "base_uri": "https://localhost:8080/"
        },
        "id": "hCQyYEnTsaY0",
        "outputId": "8f490df2-33c1-4d00-c34b-15e7e2b19ce0"
      },
      "execution_count": 9,
      "outputs": [
        {
          "output_type": "execute_result",
          "data": {
            "text/plain": [
              "7.38905609893065"
            ]
          },
          "metadata": {},
          "execution_count": 9
        }
      ]
    },
    {
      "cell_type": "code",
      "source": [
        "math.exp(math.log(10))"
      ],
      "metadata": {
        "colab": {
          "base_uri": "https://localhost:8080/"
        },
        "id": "rHyHMGWPsdmV",
        "outputId": "4f2835e5-d5e9-4032-a849-cb1c769fe909"
      },
      "execution_count": 10,
      "outputs": [
        {
          "output_type": "execute_result",
          "data": {
            "text/plain": [
              "10.000000000000002"
            ]
          },
          "metadata": {},
          "execution_count": 10
        }
      ]
    },
    {
      "cell_type": "code",
      "source": [
        "math.factorial(4)"
      ],
      "metadata": {
        "colab": {
          "base_uri": "https://localhost:8080/"
        },
        "id": "DI2HAIykskJ8",
        "outputId": "8affa35b-5596-4bb6-e4a1-07cdf87fc798"
      },
      "execution_count": 12,
      "outputs": [
        {
          "output_type": "execute_result",
          "data": {
            "text/plain": [
              "24"
            ]
          },
          "metadata": {},
          "execution_count": 12
        }
      ]
    },
    {
      "cell_type": "code",
      "source": [
        "math.comb?"
      ],
      "metadata": {
        "id": "hSRcAA3Gtm5M"
      },
      "execution_count": 13,
      "outputs": []
    },
    {
      "cell_type": "code",
      "source": [
        "1/0"
      ],
      "metadata": {
        "colab": {
          "base_uri": "https://localhost:8080/",
          "height": 141
        },
        "id": "myDkCxq-tsuo",
        "outputId": "cead3287-a553-48c9-b90c-a38570481657"
      },
      "execution_count": 14,
      "outputs": [
        {
          "output_type": "error",
          "ename": "ZeroDivisionError",
          "evalue": "division by zero",
          "traceback": [
            "\u001b[0;31m---------------------------------------------------------------------------\u001b[0m",
            "\u001b[0;31mZeroDivisionError\u001b[0m                         Traceback (most recent call last)",
            "\u001b[0;32m<ipython-input-14-9e1622b385b6>\u001b[0m in \u001b[0;36m<cell line: 1>\u001b[0;34m()\u001b[0m\n\u001b[0;32m----> 1\u001b[0;31m \u001b[0;36m1\u001b[0m\u001b[0;34m/\u001b[0m\u001b[0;36m0\u001b[0m\u001b[0;34m\u001b[0m\u001b[0;34m\u001b[0m\u001b[0m\n\u001b[0m",
            "\u001b[0;31mZeroDivisionError\u001b[0m: division by zero"
          ]
        }
      ]
    },
    {
      "cell_type": "code",
      "source": [
        "1/math.inf"
      ],
      "metadata": {
        "colab": {
          "base_uri": "https://localhost:8080/"
        },
        "id": "QrrAzwCLu045",
        "outputId": "60164a4b-317d-4cd9-abfd-82ddaeb2280a"
      },
      "execution_count": 15,
      "outputs": [
        {
          "output_type": "execute_result",
          "data": {
            "text/plain": [
              "0.0"
            ]
          },
          "metadata": {},
          "execution_count": 15
        }
      ]
    },
    {
      "cell_type": "code",
      "source": [
        "math.inf * 3"
      ],
      "metadata": {
        "colab": {
          "base_uri": "https://localhost:8080/"
        },
        "id": "CDzlAqfyvStL",
        "outputId": "84ec1dca-7b3c-49fc-e7a7-aa207259c1f3"
      },
      "execution_count": 16,
      "outputs": [
        {
          "output_type": "execute_result",
          "data": {
            "text/plain": [
              "inf"
            ]
          },
          "metadata": {},
          "execution_count": 16
        }
      ]
    },
    {
      "cell_type": "code",
      "source": [
        "math.inf/math.inf"
      ],
      "metadata": {
        "colab": {
          "base_uri": "https://localhost:8080/"
        },
        "id": "YUvt44D9vXbn",
        "outputId": "0bde1037-a2b2-446e-add7-6bf55d88311b"
      },
      "execution_count": 17,
      "outputs": [
        {
          "output_type": "execute_result",
          "data": {
            "text/plain": [
              "nan"
            ]
          },
          "metadata": {},
          "execution_count": 17
        }
      ]
    },
    {
      "cell_type": "markdown",
      "source": [
        "## 3. Complex numbers"
      ],
      "metadata": {
        "id": "oOSExEi8v2yg"
      }
    },
    {
      "cell_type": "code",
      "source": [
        "complex(3,4)"
      ],
      "metadata": {
        "colab": {
          "base_uri": "https://localhost:8080/"
        },
        "id": "qph4Ji4Pvd9H",
        "outputId": "1d2b8a36-02e6-4b7c-adf2-9deef0bc7811"
      },
      "execution_count": 18,
      "outputs": [
        {
          "output_type": "execute_result",
          "data": {
            "text/plain": [
              "(3+4j)"
            ]
          },
          "metadata": {},
          "execution_count": 18
        }
      ]
    },
    {
      "cell_type": "code",
      "source": [
        "-1 + 2j"
      ],
      "metadata": {
        "colab": {
          "base_uri": "https://localhost:8080/"
        },
        "id": "DZkFo3xvv6zD",
        "outputId": "3af221c2-f12f-4fed-db6a-2ca9cef19806"
      },
      "execution_count": 20,
      "outputs": [
        {
          "output_type": "execute_result",
          "data": {
            "text/plain": [
              "(-1+2j)"
            ]
          },
          "metadata": {},
          "execution_count": 20
        }
      ]
    },
    {
      "cell_type": "markdown",
      "source": [
        "## 4. Data types:\n",
        "\n",
        "int: integers\n",
        "\n",
        "float: floating point numbers\n",
        "\n",
        "complex: complex numbers\n",
        "\n",
        "\n",
        "The command type() allows to check which type you are dealing with."
      ],
      "metadata": {
        "id": "2JjdWGaSykzU"
      }
    },
    {
      "cell_type": "code",
      "source": [
        "type(12)"
      ],
      "metadata": {
        "colab": {
          "base_uri": "https://localhost:8080/"
        },
        "id": "kC59CFzbwtoH",
        "outputId": "cca09ac9-1227-4008-8808-1fe8233b0828"
      },
      "execution_count": 21,
      "outputs": [
        {
          "output_type": "execute_result",
          "data": {
            "text/plain": [
              "int"
            ]
          },
          "metadata": {},
          "execution_count": 21
        }
      ]
    },
    {
      "cell_type": "code",
      "source": [
        "type(12.)"
      ],
      "metadata": {
        "colab": {
          "base_uri": "https://localhost:8080/"
        },
        "id": "W5ojmo9bzVuE",
        "outputId": "ac390af2-e76e-4680-9e02-2402b65c71bd"
      },
      "execution_count": 22,
      "outputs": [
        {
          "output_type": "execute_result",
          "data": {
            "text/plain": [
              "float"
            ]
          },
          "metadata": {},
          "execution_count": 22
        }
      ]
    },
    {
      "cell_type": "code",
      "source": [
        "type(3+4j)"
      ],
      "metadata": {
        "colab": {
          "base_uri": "https://localhost:8080/"
        },
        "id": "lywa_NTCzZXd",
        "outputId": "e22c4153-5517-41fe-d132-e602122cae79"
      },
      "execution_count": 23,
      "outputs": [
        {
          "output_type": "execute_result",
          "data": {
            "text/plain": [
              "complex"
            ]
          },
          "metadata": {},
          "execution_count": 23
        }
      ]
    },
    {
      "cell_type": "code",
      "source": [
        "type(\"hola\")"
      ],
      "metadata": {
        "id": "3a_QQqPszjsz",
        "colab": {
          "base_uri": "https://localhost:8080/"
        },
        "outputId": "851ea258-d434-48e1-9904-f912b604e077"
      },
      "execution_count": 24,
      "outputs": [
        {
          "output_type": "execute_result",
          "data": {
            "text/plain": [
              "str"
            ]
          },
          "metadata": {},
          "execution_count": 24
        }
      ]
    },
    {
      "cell_type": "markdown",
      "source": [
        "## 5. Logical operators:\n",
        "\n",
        "They are very helpful when dealing with conditionals:"
      ],
      "metadata": {
        "id": "5Wy1N0Bwzrif"
      }
    },
    {
      "cell_type": "code",
      "source": [
        "# Compare two numbers\n",
        "\n",
        "2 == 3"
      ],
      "metadata": {
        "colab": {
          "base_uri": "https://localhost:8080/"
        },
        "id": "ShMhsQuQzuW7",
        "outputId": "12d168f1-be5b-42de-aa2f-1afe254badc4"
      },
      "execution_count": 25,
      "outputs": [
        {
          "output_type": "execute_result",
          "data": {
            "text/plain": [
              "False"
            ]
          },
          "metadata": {},
          "execution_count": 25
        }
      ]
    },
    {
      "cell_type": "code",
      "source": [
        "2 < 3"
      ],
      "metadata": {
        "colab": {
          "base_uri": "https://localhost:8080/"
        },
        "id": "BPjs-NLq0Pck",
        "outputId": "d42f5f2d-57b8-4d3d-8573-e3782a603ad5"
      },
      "execution_count": 26,
      "outputs": [
        {
          "output_type": "execute_result",
          "data": {
            "text/plain": [
              "True"
            ]
          },
          "metadata": {},
          "execution_count": 26
        }
      ]
    },
    {
      "cell_type": "code",
      "source": [
        "# And, Not, Or\n",
        "\n",
        "(2 and not 2) and (2 and 2)"
      ],
      "metadata": {
        "colab": {
          "base_uri": "https://localhost:8080/"
        },
        "id": "_jlnwAGW0Vka",
        "outputId": "2efa5cb5-71d5-4d02-b795-9250a04e11c0"
      },
      "execution_count": 27,
      "outputs": [
        {
          "output_type": "execute_result",
          "data": {
            "text/plain": [
              "False"
            ]
          },
          "metadata": {},
          "execution_count": 27
        }
      ]
    },
    {
      "cell_type": "code",
      "source": [
        "(4 > 3) + (2 > 1)"
      ],
      "metadata": {
        "colab": {
          "base_uri": "https://localhost:8080/"
        },
        "id": "bPazq1-L0tJG",
        "outputId": "134a8f4b-7392-49ab-82eb-aaeaa9e1e744"
      },
      "execution_count": 28,
      "outputs": [
        {
          "output_type": "execute_result",
          "data": {
            "text/plain": [
              "2"
            ]
          },
          "metadata": {},
          "execution_count": 28
        }
      ]
    },
    {
      "cell_type": "markdown",
      "source": [
        "## 6. Variables:\n",
        "\n",
        "= This is called assignment operator!"
      ],
      "metadata": {
        "id": "V89EIaRw1O2D"
      }
    },
    {
      "cell_type": "code",
      "source": [
        "# Define variables\n",
        "\n",
        "a = 3\n",
        "b = 3."
      ],
      "metadata": {
        "id": "KCIYqy8u1D_5"
      },
      "execution_count": 29,
      "outputs": []
    },
    {
      "cell_type": "code",
      "source": [
        "print(type(a))\n",
        "print(type(b))"
      ],
      "metadata": {
        "colab": {
          "base_uri": "https://localhost:8080/"
        },
        "id": "n15jtHF-2LGp",
        "outputId": "703c1eb8-de11-4f6c-c3eb-5773758199be"
      },
      "execution_count": 30,
      "outputs": [
        {
          "output_type": "stream",
          "name": "stdout",
          "text": [
            "<class 'int'>\n",
            "<class 'float'>\n"
          ]
        }
      ]
    },
    {
      "cell_type": "code",
      "source": [
        "# Operations with variables\n",
        "\n",
        "c = b*2.\n",
        "\n",
        "print(c)"
      ],
      "metadata": {
        "colab": {
          "base_uri": "https://localhost:8080/"
        },
        "id": "f8Rh-nsw2Mjp",
        "outputId": "aef7fdb7-caec-48e6-98cd-6f5c9995844e"
      },
      "execution_count": 31,
      "outputs": [
        {
          "output_type": "stream",
          "name": "stdout",
          "text": [
            "6.0\n"
          ]
        }
      ]
    },
    {
      "cell_type": "code",
      "source": [
        "%whos"
      ],
      "metadata": {
        "colab": {
          "base_uri": "https://localhost:8080/"
        },
        "id": "isaVa5Lr2pFo",
        "outputId": "b5c2c7e2-9783-46c8-9e58-083eb27ea85b"
      },
      "execution_count": 33,
      "outputs": [
        {
          "output_type": "stream",
          "name": "stdout",
          "text": [
            "Variable   Type      Data/Info\n",
            "------------------------------\n",
            "a          int       3\n",
            "b          float     3.0\n",
            "c          float     6.0\n",
            "math       module    <module 'math' (built-in)>\n"
          ]
        }
      ]
    },
    {
      "cell_type": "code",
      "source": [
        "a = 5."
      ],
      "metadata": {
        "id": "FITfyXXLUiSA"
      },
      "execution_count": 34,
      "outputs": []
    },
    {
      "cell_type": "code",
      "source": [
        "%whos"
      ],
      "metadata": {
        "colab": {
          "base_uri": "https://localhost:8080/"
        },
        "id": "meWEB6UNUlNx",
        "outputId": "94b6711a-1c17-4338-a7f3-be3a000dcca7"
      },
      "execution_count": 35,
      "outputs": [
        {
          "output_type": "stream",
          "name": "stdout",
          "text": [
            "Variable   Type      Data/Info\n",
            "------------------------------\n",
            "a          float     5.0\n",
            "b          float     3.0\n",
            "c          float     6.0\n",
            "math       module    <module 'math' (built-in)>\n"
          ]
        }
      ]
    },
    {
      "cell_type": "code",
      "source": [
        "# Another operation for a\n",
        "\n",
        "a = b+1."
      ],
      "metadata": {
        "id": "rFSz4dEo24ZS"
      },
      "execution_count": 36,
      "outputs": []
    },
    {
      "cell_type": "code",
      "source": [
        "%whos"
      ],
      "metadata": {
        "colab": {
          "base_uri": "https://localhost:8080/"
        },
        "id": "gDPdVJ323Ss3",
        "outputId": "85fb8827-4098-40fd-9f68-dbbc7a858c32"
      },
      "execution_count": 37,
      "outputs": [
        {
          "output_type": "stream",
          "name": "stdout",
          "text": [
            "Variable   Type      Data/Info\n",
            "------------------------------\n",
            "a          float     4.0\n",
            "b          float     3.0\n",
            "c          float     6.0\n",
            "math       module    <module 'math' (built-in)>\n"
          ]
        }
      ]
    },
    {
      "cell_type": "code",
      "source": [
        "t = 0.\n",
        "\n",
        "print(t)"
      ],
      "metadata": {
        "colab": {
          "base_uri": "https://localhost:8080/"
        },
        "id": "jTxznvyu3TxL",
        "outputId": "7a99da19-17f6-489a-a95e-3b44c1c82803"
      },
      "execution_count": 38,
      "outputs": [
        {
          "output_type": "stream",
          "name": "stdout",
          "text": [
            "0.0\n"
          ]
        }
      ]
    },
    {
      "cell_type": "code",
      "source": [
        "t = t + 1.\n",
        "\n",
        "print(t)"
      ],
      "metadata": {
        "colab": {
          "base_uri": "https://localhost:8080/"
        },
        "id": "EYDfREuh3v92",
        "outputId": "4a097171-0cc8-490e-fe62-326e08a5ef27"
      },
      "execution_count": 39,
      "outputs": [
        {
          "output_type": "stream",
          "name": "stdout",
          "text": [
            "1.0\n"
          ]
        }
      ]
    },
    {
      "cell_type": "code",
      "source": [
        "del a # deletes the variable from memory"
      ],
      "metadata": {
        "id": "HOo6VPxBU0zo"
      },
      "execution_count": 40,
      "outputs": []
    },
    {
      "cell_type": "code",
      "source": [
        "print(a)"
      ],
      "metadata": {
        "colab": {
          "base_uri": "https://localhost:8080/",
          "height": 141
        },
        "id": "sLfpBFSMVDHU",
        "outputId": "55ce8e15-cf83-4f00-b6a8-c3b734c1eee2"
      },
      "execution_count": 42,
      "outputs": [
        {
          "output_type": "error",
          "ename": "NameError",
          "evalue": "name 'a' is not defined",
          "traceback": [
            "\u001b[0;31m---------------------------------------------------------------------------\u001b[0m",
            "\u001b[0;31mNameError\u001b[0m                                 Traceback (most recent call last)",
            "\u001b[0;32m<ipython-input-42-bca0e2660b9f>\u001b[0m in \u001b[0;36m<cell line: 1>\u001b[0;34m()\u001b[0m\n\u001b[0;32m----> 1\u001b[0;31m \u001b[0mprint\u001b[0m\u001b[0;34m(\u001b[0m\u001b[0ma\u001b[0m\u001b[0;34m)\u001b[0m\u001b[0;34m\u001b[0m\u001b[0;34m\u001b[0m\u001b[0m\n\u001b[0m",
            "\u001b[0;31mNameError\u001b[0m: name 'a' is not defined"
          ]
        }
      ]
    },
    {
      "cell_type": "code",
      "source": [
        "%whos"
      ],
      "metadata": {
        "colab": {
          "base_uri": "https://localhost:8080/"
        },
        "id": "acGA6x1FU2mS",
        "outputId": "7901a13e-a881-4c0f-dc99-f7d53071b946"
      },
      "execution_count": 41,
      "outputs": [
        {
          "output_type": "stream",
          "name": "stdout",
          "text": [
            "Variable   Type      Data/Info\n",
            "------------------------------\n",
            "b          float     3.0\n",
            "c          float     6.0\n",
            "math       module    <module 'math' (built-in)>\n",
            "t          float     1.0\n"
          ]
        }
      ]
    },
    {
      "cell_type": "markdown",
      "source": [
        "## 7. Data structures:\n",
        "\n",
        "- Strings: characters -> text\n",
        "\n",
        "- Lists: native to python\n",
        "\n",
        "- Tuples: Sets of data\n",
        "\n",
        "- Sets, Dictionaries.\n",
        "\n",
        "- Arrays (Numpy)"
      ],
      "metadata": {
        "id": "3vHbXEro4URY"
      }
    },
    {
      "cell_type": "markdown",
      "source": [
        "7.1 Strings:"
      ],
      "metadata": {
        "id": "rIo6Hrgr5IYL"
      }
    },
    {
      "cell_type": "code",
      "source": [
        "# Examples\n",
        "\n",
        "d = \"file\"\n",
        "\n",
        "print(type(d)) # Type of data structure\n",
        "\n",
        "print(len(d)) # Number of characters in the string"
      ],
      "metadata": {
        "colab": {
          "base_uri": "https://localhost:8080/"
        },
        "id": "Gj4UWgaU3yRs",
        "outputId": "f66a1a7f-11fc-43a2-9238-e5c67dda4770"
      },
      "execution_count": 43,
      "outputs": [
        {
          "output_type": "stream",
          "name": "stdout",
          "text": [
            "<class 'str'>\n",
            "4\n"
          ]
        }
      ]
    },
    {
      "cell_type": "code",
      "source": [
        "# Empty string\n",
        "\n",
        "e = \" \"\n",
        "\n",
        "print(type(e), len(e))"
      ],
      "metadata": {
        "colab": {
          "base_uri": "https://localhost:8080/"
        },
        "id": "ywivlErX5VHY",
        "outputId": "b24c175e-86a1-4132-9c67-302ebe663bda"
      },
      "execution_count": 44,
      "outputs": [
        {
          "output_type": "stream",
          "name": "stdout",
          "text": [
            "<class 'str'> 1\n"
          ]
        }
      ]
    },
    {
      "cell_type": "code",
      "source": [
        "# Access specific character\n",
        "\n",
        "f = \"file001\"\n",
        "\n",
        "print(type(f), len(f))"
      ],
      "metadata": {
        "id": "RRtG216l5wCx",
        "colab": {
          "base_uri": "https://localhost:8080/"
        },
        "outputId": "6a313d08-8ff4-4306-decc-def404606e7e"
      },
      "execution_count": 46,
      "outputs": [
        {
          "output_type": "stream",
          "name": "stdout",
          "text": [
            "<class 'str'> 7\n"
          ]
        }
      ]
    },
    {
      "cell_type": "code",
      "source": [
        "# Python indexes from 0, and the [] are used for indexing.\n",
        "\n",
        "print(f[6])\n",
        "\n",
        "print(f[4:7])"
      ],
      "metadata": {
        "colab": {
          "base_uri": "https://localhost:8080/"
        },
        "id": "NFJsAnYz59yj",
        "outputId": "fd1c75c7-3acb-44f1-c97e-de1f55bfb804"
      },
      "execution_count": 48,
      "outputs": [
        {
          "output_type": "stream",
          "name": "stdout",
          "text": [
            "1\n",
            "001\n"
          ]
        }
      ]
    },
    {
      "cell_type": "code",
      "source": [
        "print(f.count(\"0\"))\n",
        "print(f.replace(\"00\", \"01\"))"
      ],
      "metadata": {
        "colab": {
          "base_uri": "https://localhost:8080/"
        },
        "id": "dLhreapv6BcL",
        "outputId": "4f3034cb-4813-4244-a8fc-fb94e081b8a8"
      },
      "execution_count": 49,
      "outputs": [
        {
          "output_type": "stream",
          "name": "stdout",
          "text": [
            "2\n",
            "file011\n"
          ]
        }
      ]
    },
    {
      "cell_type": "markdown",
      "source": [
        "## 7.2 Lists:\n",
        "\n",
        "To define lists we use [] (square brackets)."
      ],
      "metadata": {
        "id": "z939pa9e6zXA"
      }
    },
    {
      "cell_type": "code",
      "source": [
        "list_1 = [4,7,9]\n",
        "\n",
        "print(type(list_1))"
      ],
      "metadata": {
        "colab": {
          "base_uri": "https://localhost:8080/"
        },
        "id": "2pjMPhoE6jIV",
        "outputId": "6341df59-59e4-45ff-849c-cfc2a502d16a"
      },
      "execution_count": 51,
      "outputs": [
        {
          "output_type": "stream",
          "name": "stdout",
          "text": [
            "<class 'list'>\n"
          ]
        }
      ]
    },
    {
      "cell_type": "code",
      "source": [
        "list_2 = [\"Hola\",7,9]\n",
        "\n",
        "print(list_2)\n",
        "print(type(list_2))"
      ],
      "metadata": {
        "colab": {
          "base_uri": "https://localhost:8080/"
        },
        "id": "xKy1uBwX7C2r",
        "outputId": "95b9d5b6-b07a-4a94-ac8b-d9d2d2369ed4"
      },
      "execution_count": 52,
      "outputs": [
        {
          "output_type": "stream",
          "name": "stdout",
          "text": [
            "['Hola', 7, 9]\n",
            "<class 'list'>\n"
          ]
        }
      ]
    },
    {
      "cell_type": "code",
      "source": [
        "# Indexing\n",
        "\n",
        "print(list_2[0], type(list_2[0]))\n",
        "print(list_2[2], type(list_2[2]))\n",
        "print(list_2[-1])"
      ],
      "metadata": {
        "colab": {
          "base_uri": "https://localhost:8080/"
        },
        "id": "EPgm1eFl7HdG",
        "outputId": "89ea4edc-c5c1-4b75-c426-2b1c3cc89358"
      },
      "execution_count": 58,
      "outputs": [
        {
          "output_type": "stream",
          "name": "stdout",
          "text": [
            "Hola <class 'str'>\n",
            "9 <class 'int'>\n",
            "9\n"
          ]
        }
      ]
    },
    {
      "cell_type": "code",
      "source": [
        "# length of the list\n",
        "\n",
        "len(list_2)\n"
      ],
      "metadata": {
        "colab": {
          "base_uri": "https://localhost:8080/"
        },
        "id": "wWQzohqS7atG",
        "outputId": "db8abfe7-ee86-4b58-b3a4-71cac9861fb7"
      },
      "execution_count": 60,
      "outputs": [
        {
          "output_type": "execute_result",
          "data": {
            "text/plain": [
              "3"
            ]
          },
          "metadata": {},
          "execution_count": 60
        }
      ]
    },
    {
      "cell_type": "code",
      "source": [
        "# Concatenate lists\n",
        "\n",
        "list_3 = list_1 + list_2\n",
        "\n",
        "print(list_3)\n",
        "print(len(list_3))"
      ],
      "metadata": {
        "colab": {
          "base_uri": "https://localhost:8080/"
        },
        "id": "nxMpgerS79MR",
        "outputId": "4e712861-013b-4191-b925-938daa226e2e"
      },
      "execution_count": 63,
      "outputs": [
        {
          "output_type": "stream",
          "name": "stdout",
          "text": [
            "[4, 7, 9, 'Hola', 7, 9]\n",
            "6\n"
          ]
        }
      ]
    },
    {
      "cell_type": "code",
      "source": [
        "# Empty list\n",
        "\n",
        "m = []\n",
        "\n",
        "print(m, type(m))\n",
        "\n",
        "m.append(1)\n",
        "\n",
        "print(m)"
      ],
      "metadata": {
        "colab": {
          "base_uri": "https://localhost:8080/"
        },
        "id": "y3yz_nw_8Hgr",
        "outputId": "e261ad8c-8c2c-453c-841a-d1b7405376ba"
      },
      "execution_count": 64,
      "outputs": [
        {
          "output_type": "stream",
          "name": "stdout",
          "text": [
            "[] <class 'list'>\n",
            "[1]\n"
          ]
        }
      ]
    },
    {
      "cell_type": "code",
      "source": [
        "m.append(2)\n",
        "\n",
        "print(m)"
      ],
      "metadata": {
        "colab": {
          "base_uri": "https://localhost:8080/"
        },
        "id": "HKXoS2Eg8hm_",
        "outputId": "7f7ddc59-ac8e-4910-d926-d2db571739c4"
      },
      "execution_count": 65,
      "outputs": [
        {
          "output_type": "stream",
          "name": "stdout",
          "text": [
            "[1, 2]\n"
          ]
        }
      ]
    },
    {
      "cell_type": "code",
      "source": [
        "print(d, type(d))"
      ],
      "metadata": {
        "colab": {
          "base_uri": "https://localhost:8080/"
        },
        "id": "3_8LaOu4ZOPF",
        "outputId": "8959e918-36d6-4a4d-d187-8051e31f6d28"
      },
      "execution_count": 68,
      "outputs": [
        {
          "output_type": "stream",
          "name": "stdout",
          "text": [
            "file <class 'str'>\n"
          ]
        }
      ]
    },
    {
      "cell_type": "code",
      "source": [
        "# String to list\n",
        "\n",
        "d_list = list(d)\n",
        "\n",
        "print(d_list, type(d_list))"
      ],
      "metadata": {
        "colab": {
          "base_uri": "https://localhost:8080/"
        },
        "id": "BValGRq08n1e",
        "outputId": "f30616eb-35c4-4d5d-c8c2-677abf0ea667"
      },
      "execution_count": 70,
      "outputs": [
        {
          "output_type": "stream",
          "name": "stdout",
          "text": [
            "['f', 'i', 'l', 'e'] <class 'list'>\n"
          ]
        }
      ]
    },
    {
      "cell_type": "markdown",
      "source": [
        "## 7.3 Tuples:\n",
        "\n",
        "To define tuples we use ().\n",
        "\n",
        "Tuples -> sets of #'s"
      ],
      "metadata": {
        "id": "OUqQZQnna1SP"
      }
    },
    {
      "cell_type": "code",
      "source": [
        "# Define a tuple\n",
        "\n",
        "tuple_1 = (100, 200, 300)\n",
        "\n",
        "print(type(tuple_1))"
      ],
      "metadata": {
        "id": "dMYSaKSK8zab",
        "colab": {
          "base_uri": "https://localhost:8080/"
        },
        "outputId": "142a354e-6736-4235-b2a9-8c9e3127ff5c"
      },
      "execution_count": 71,
      "outputs": [
        {
          "output_type": "stream",
          "name": "stdout",
          "text": [
            "<class 'tuple'>\n"
          ]
        }
      ]
    },
    {
      "cell_type": "code",
      "source": [
        "# Use indexing\n",
        "\n",
        "print(tuple_1[0:2])"
      ],
      "metadata": {
        "colab": {
          "base_uri": "https://localhost:8080/"
        },
        "id": "AuGSmeJebYbt",
        "outputId": "41471729-26a2-4653-929e-c0e8ed45e803"
      },
      "execution_count": null,
      "outputs": [
        {
          "output_type": "stream",
          "name": "stdout",
          "text": [
            "(100, 200)\n"
          ]
        }
      ]
    },
    {
      "cell_type": "code",
      "source": [
        "print(len(tuple_1))"
      ],
      "metadata": {
        "colab": {
          "base_uri": "https://localhost:8080/"
        },
        "id": "QPWbuDYBblZH",
        "outputId": "b5a12b62-a61b-4078-d2a1-04c549883eb0"
      },
      "execution_count": 72,
      "outputs": [
        {
          "output_type": "stream",
          "name": "stdout",
          "text": [
            "3\n"
          ]
        }
      ]
    },
    {
      "cell_type": "code",
      "source": [
        "print(tuple_1.count(100))"
      ],
      "metadata": {
        "colab": {
          "base_uri": "https://localhost:8080/"
        },
        "id": "e_tS7JUKb2xV",
        "outputId": "1e3dd04c-659a-4786-e222-918ace1f7028"
      },
      "execution_count": 73,
      "outputs": [
        {
          "output_type": "stream",
          "name": "stdout",
          "text": [
            "1\n"
          ]
        }
      ]
>>>>>>> 5c43db65ca15e26d43cb27ff6c5ae201e590fcd5
    },
    "id": "hWEfDJGXq81n",
    "outputId": "32abdbee-664e-42a9-bd24-8a7061a52391"
   },
   "outputs": [
    {
<<<<<<< HEAD
     "data": {
      "text/plain": [
       "4"
=======
      "cell_type": "code",
      "source": [
        "# Differences between tuples and lists\n",
        "\n",
        "list_1 = [100, 200, 300]\n",
        "\n",
        "# Change an element within the list\n",
        "\n",
        "list_1[2] = 500\n",
        "\n",
        "print(list_1)\n",
        "\n",
        "# Can we do the same with tuples? NO.\n",
        "\n",
        "#tuple_1[2] = 500 # This gives us an error\n",
        "# TypeError: 'tuple' object does not support item assignment\n"
      ],
      "metadata": {
        "colab": {
          "base_uri": "https://localhost:8080/"
        },
        "id": "CeIPW-4JdPuL",
        "outputId": "9da38505-88fc-459c-e5bd-1af6aac2a9ee"
      },
      "execution_count": 76,
      "outputs": [
        {
          "output_type": "stream",
          "name": "stdout",
          "text": [
            "[100, 200, 500]\n"
          ]
        }
>>>>>>> 5c43db65ca15e26d43cb27ff6c5ae201e590fcd5
      ]
     },
     "execution_count": 1,
     "metadata": {},
     "output_type": "execute_result"
    }
   ],
   "source": [
    "# Addition\n",
    "\n",
    "1 + 3 "
   ]
  },
  {
   "cell_type": "code",
   "execution_count": 2,
   "metadata": {
    "colab": {
     "base_uri": "https://localhost:8080/"
    },
    "id": "CpGYG6P7rGFM",
    "outputId": "ab930de2-7c05-4db3-8852-c3363233ecd3"
   },
   "outputs": [
    {
<<<<<<< HEAD
     "data": {
      "text/plain": [
       "4.0"
=======
      "cell_type": "code",
      "source": [
        "# Tuples can receive objects via unpacking\n",
        "# Let's get the elements from list_1\n",
        "\n",
        "print(list_1)\n",
        "\n",
        "x, y, z = list_1\n",
        "\n",
        "print(x, y, z)"
      ],
      "metadata": {
        "colab": {
          "base_uri": "https://localhost:8080/"
        },
        "id": "3jrhu1TmdeZt",
        "outputId": "ba800783-b69f-4a27-99c1-b57de5146e23"
      },
      "execution_count": 77,
      "outputs": [
        {
          "output_type": "stream",
          "name": "stdout",
          "text": [
            "[100, 200, 500]\n",
            "100 200 500\n"
          ]
        }
>>>>>>> 5c43db65ca15e26d43cb27ff6c5ae201e590fcd5
      ]
     },
     "execution_count": 2,
     "metadata": {},
     "output_type": "execute_result"
    }
   ],
   "source": [
    "# Multiplication/Division\n",
    "\n",
    "(2 * 10)/(5)"
   ]
  },
  {
   "cell_type": "code",
   "execution_count": 3,
   "metadata": {
    "colab": {
     "base_uri": "https://localhost:8080/"
    },
    "id": "1_n2x8FKrUyf",
    "outputId": "1f61b2a9-3f54-4267-a49f-3f24e348bb29"
   },
   "outputs": [
    {
<<<<<<< HEAD
     "data": {
      "text/plain": [
       "28.0"
=======
      "cell_type": "code",
      "source": [
        "# Parethesis are not strictly needed to generate tuples\n",
        "# But they are desired highly\n",
        "\n",
        "tuple_2 = 7,8,9\n",
        "\n",
        "tuple_3 = (7,8,9)\n",
        "\n",
        "print(type(tuple_2))\n",
        "print(type(tuple_3))"
      ],
      "metadata": {
        "colab": {
          "base_uri": "https://localhost:8080/"
        },
        "id": "TGkJzzhZeL20",
        "outputId": "caf963fb-1a30-4d84-fca8-a106d789412e"
      },
      "execution_count": 79,
      "outputs": [
        {
          "output_type": "stream",
          "name": "stdout",
          "text": [
            "<class 'tuple'>\n",
            "<class 'tuple'>\n"
          ]
        }
>>>>>>> 5c43db65ca15e26d43cb27ff6c5ae201e590fcd5
      ]
     },
     "execution_count": 3,
     "metadata": {},
     "output_type": "execute_result"
    }
   ],
   "source": [
    "_*7"
   ]
  },
  {
   "cell_type": "markdown",
   "metadata": {
    "id": "IUKzAM_XrkGL"
   },
   "source": [
    "# 2. The math library:"
   ]
  },
  {
   "cell_type": "code",
   "execution_count": 4,
   "metadata": {
    "id": "CwkZrpucrgRF"
   },
   "outputs": [],
   "source": [
    "import math"
   ]
  },
  {
   "cell_type": "code",
   "execution_count": 5,
   "metadata": {
    "colab": {
     "base_uri": "https://localhost:8080/"
    },
    "id": "flEvprGUrxQd",
    "outputId": "e7d4b0b5-7278-40b7-8b63-614b37afc6ba"
   },
   "outputs": [
    {
<<<<<<< HEAD
     "data": {
      "text/plain": [
       "1.0"
=======
      "cell_type": "markdown",
      "source": [
        "7.4 Sets:\n",
        "To define lists we use {} (curly brackets). Allow for some basic operations:\n",
        "\n",
        "- Unions\n",
        "- Intersections\n",
        "- Differences"
      ],
      "metadata": {
        "id": "6PZYN1-oe8dX"
      }
    },
    {
      "cell_type": "code",
      "source": [
        "{1, 1, 2, 3, 4, 4, 5, 6, 6, 7, 7, 7}"
      ],
      "metadata": {
        "colab": {
          "base_uri": "https://localhost:8080/"
        },
        "id": "H35LACozes_Y",
        "outputId": "823a94b9-f0e9-4f8a-edf7-b3c9fff49041"
      },
      "execution_count": 80,
      "outputs": [
        {
          "output_type": "execute_result",
          "data": {
            "text/plain": [
              "{1, 2, 3, 4, 5, 6, 7}"
            ]
          },
          "metadata": {},
          "execution_count": 80
        }
>>>>>>> 5c43db65ca15e26d43cb27ff6c5ae201e590fcd5
      ]
     },
     "execution_count": 5,
     "metadata": {},
     "output_type": "execute_result"
    }
   ],
   "source": [
    "math.cos(0)"
   ]
  },
  {
   "cell_type": "code",
   "execution_count": 6,
   "metadata": {
    "colab": {
     "base_uri": "https://localhost:8080/"
    },
    "id": "0pk3dgLosWie",
    "outputId": "bb2a87c0-4db9-41f5-cd51-e397bd9fc256"
   },
   "outputs": [
    {
<<<<<<< HEAD
     "data": {
      "text/plain": [
       "2.0"
=======
      "cell_type": "code",
      "source": [
        "print(type({1, 1, 2, 3, 4, 4, 5, 6, 6, 7, 7, 7}))"
      ],
      "metadata": {
        "colab": {
          "base_uri": "https://localhost:8080/"
        },
        "id": "ABOVkbYEfYI0",
        "outputId": "8f1188a9-7c83-4379-fcf1-c41ae4490281"
      },
      "execution_count": 81,
      "outputs": [
        {
          "output_type": "stream",
          "name": "stdout",
          "text": [
            "<class 'set'>\n"
          ]
        }
>>>>>>> 5c43db65ca15e26d43cb27ff6c5ae201e590fcd5
      ]
     },
     "execution_count": 6,
     "metadata": {},
     "output_type": "execute_result"
    }
   ],
   "source": [
    "math.sqrt(4)"
   ]
  },
  {
   "cell_type": "code",
   "execution_count": 7,
   "metadata": {
    "colab": {
     "base_uri": "https://localhost:8080/"
    },
    "id": "hCQyYEnTsaY0",
    "outputId": "08a665d8-212f-42f3-d607-6909f5e17fbe"
   },
   "outputs": [
    {
<<<<<<< HEAD
     "data": {
      "text/plain": [
       "7.38905609893065"
=======
      "cell_type": "code",
      "source": [
        "# Operations via set():\n",
        "\n",
        "# The unique elements can be found like this:\n",
        "\n",
        "set_1 = set([1, 1, 2, 3, 4, 4, 5, 6, 6, 7, 7, 7])\n",
        "\n",
        "print(set_1)\n"
      ],
      "metadata": {
        "colab": {
          "base_uri": "https://localhost:8080/"
        },
        "id": "lyUOhd3dfd8o",
        "outputId": "9947746e-359a-4cfd-cc94-9325d4b8d0d4"
      },
      "execution_count": 82,
      "outputs": [
        {
          "output_type": "stream",
          "name": "stdout",
          "text": [
            "{1, 2, 3, 4, 5, 6, 7}\n"
          ]
        }
>>>>>>> 5c43db65ca15e26d43cb27ff6c5ae201e590fcd5
      ]
     },
     "execution_count": 7,
     "metadata": {},
     "output_type": "execute_result"
    }
   ],
   "source": [
    "math.exp(2)"
   ]
  },
  {
   "cell_type": "code",
   "execution_count": 8,
   "metadata": {
    "colab": {
     "base_uri": "https://localhost:8080/"
    },
    "id": "rHyHMGWPsdmV",
    "outputId": "c9407f46-6855-4044-b54b-f1006891bebe"
   },
   "outputs": [
    {
<<<<<<< HEAD
     "data": {
      "text/plain": [
       "10.000000000000002"
=======
      "cell_type": "code",
      "source": [
        "# This is for tuples\n",
        "\n",
        "set_2 = set((1, 1, 2, 3, 4, 4, 5, 6, 6, 7, 7, 7))\n",
        "\n",
        "print(set_2)"
      ],
      "metadata": {
        "colab": {
          "base_uri": "https://localhost:8080/"
        },
        "id": "PhKGYd8SfpcQ",
        "outputId": "d97a8987-4f82-4da8-f5ab-ef48dc676a09"
      },
      "execution_count": 83,
      "outputs": [
        {
          "output_type": "stream",
          "name": "stdout",
          "text": [
            "{1, 2, 3, 4, 5, 6, 7}\n"
          ]
        }
>>>>>>> 5c43db65ca15e26d43cb27ff6c5ae201e590fcd5
      ]
     },
     "execution_count": 8,
     "metadata": {},
     "output_type": "execute_result"
    }
   ],
   "source": [
    "math.exp(math.log(10))"
   ]
  },
  {
   "cell_type": "code",
   "execution_count": 9,
   "metadata": {
    "colab": {
     "base_uri": "https://localhost:8080/"
    },
    "id": "DI2HAIykskJ8",
    "outputId": "d69590a4-dd28-46c7-c6b5-21a5608d5c8b"
   },
   "outputs": [
    {
<<<<<<< HEAD
     "data": {
      "text/plain": [
       "6"
=======
      "cell_type": "code",
      "source": [
        "# For strings:\n",
        "\n",
        "set_3 = set(\"Yachay\")\n",
        "\n",
        "print(set_3)"
      ],
      "metadata": {
        "colab": {
          "base_uri": "https://localhost:8080/"
        },
        "id": "mpNl1ZZuf-Yy",
        "outputId": "bed0aad2-f671-44b5-eb48-1b0ae980381d"
      },
      "execution_count": 84,
      "outputs": [
        {
          "output_type": "stream",
          "name": "stdout",
          "text": [
            "{'c', 'Y', 'h', 'a', 'y'}\n"
          ]
        }
>>>>>>> 5c43db65ca15e26d43cb27ff6c5ae201e590fcd5
      ]
     },
     "execution_count": 9,
     "metadata": {},
     "output_type": "execute_result"
    }
   ],
   "source": [
    "math.factorial(3)"
   ]
  },
  {
   "cell_type": "code",
   "execution_count": 10,
   "metadata": {
    "id": "hSRcAA3Gtm5M"
   },
   "outputs": [],
   "source": [
    "math.comb?"
   ]
  },
  {
   "cell_type": "code",
   "execution_count": 11,
   "metadata": {
    "colab": {
     "base_uri": "https://localhost:8080/",
     "height": 166
    },
    "id": "myDkCxq-tsuo",
    "outputId": "a351e5e0-03e4-41b6-be55-1e5b0a30463e"
   },
   "outputs": [
    {
     "ename": "ZeroDivisionError",
     "evalue": "ignored",
     "output_type": "error",
     "traceback": [
      "\u001b[0;31m---------------------------------------------------------------------------\u001b[0m",
      "\u001b[0;31mZeroDivisionError\u001b[0m                         Traceback (most recent call last)",
      "\u001b[0;32m<ipython-input-11-9e1622b385b6>\u001b[0m in \u001b[0;36m<cell line: 1>\u001b[0;34m()\u001b[0m\n\u001b[0;32m----> 1\u001b[0;31m \u001b[0;36m1\u001b[0m\u001b[0;34m/\u001b[0m\u001b[0;36m0\u001b[0m\u001b[0;34m\u001b[0m\u001b[0;34m\u001b[0m\u001b[0m\n\u001b[0m",
      "\u001b[0;31mZeroDivisionError\u001b[0m: division by zero"
     ]
    }
   ],
   "source": [
    "1/0"
   ]
  },
  {
   "cell_type": "code",
   "execution_count": 12,
   "metadata": {
    "colab": {
     "base_uri": "https://localhost:8080/"
    },
    "id": "QrrAzwCLu045",
    "outputId": "541d95a5-87ee-4e35-c2be-2d60c95a2445"
   },
   "outputs": [
    {
<<<<<<< HEAD
     "data": {
      "text/plain": [
       "0.0"
=======
      "cell_type": "code",
      "source": [
        "# Define a new set\n",
        "set_4 = set((5,6,7, 8, 9, 10))\n",
        "\n",
        "print(set_4)"
      ],
      "metadata": {
        "colab": {
          "base_uri": "https://localhost:8080/"
        },
        "id": "fyCB8zSdgOYO",
        "outputId": "89e42773-dd9e-4bbc-c76b-c084e704b3c6"
      },
      "execution_count": 85,
      "outputs": [
        {
          "output_type": "stream",
          "name": "stdout",
          "text": [
            "{5, 6, 7, 8, 9, 10}\n"
          ]
        }
>>>>>>> 5c43db65ca15e26d43cb27ff6c5ae201e590fcd5
      ]
     },
     "execution_count": 12,
     "metadata": {},
     "output_type": "execute_result"
    }
   ],
   "source": [
    "1/math.inf"
   ]
  },
  {
   "cell_type": "code",
   "execution_count": 13,
   "metadata": {
    "colab": {
     "base_uri": "https://localhost:8080/"
    },
    "id": "CDzlAqfyvStL",
    "outputId": "7000a622-079c-4c5e-d3db-4f7eebe4d747"
   },
   "outputs": [
    {
<<<<<<< HEAD
     "data": {
      "text/plain": [
       "inf"
=======
      "cell_type": "code",
      "source": [
        "# Union operation\n",
        "\n",
        "set_2.union(set_4)\n"
      ],
      "metadata": {
        "colab": {
          "base_uri": "https://localhost:8080/"
        },
        "id": "jI5vSJPOghfO",
        "outputId": "00d2ef94-5859-4b76-fff1-017b9a0de29a"
      },
      "execution_count": 86,
      "outputs": [
        {
          "output_type": "execute_result",
          "data": {
            "text/plain": [
              "{1, 2, 3, 4, 5, 6, 7, 8, 9, 10}"
            ]
          },
          "metadata": {},
          "execution_count": 86
        }
>>>>>>> 5c43db65ca15e26d43cb27ff6c5ae201e590fcd5
      ]
     },
     "execution_count": 13,
     "metadata": {},
     "output_type": "execute_result"
    }
   ],
   "source": [
    "math.inf * 3"
   ]
  },
  {
   "cell_type": "code",
   "execution_count": 14,
   "metadata": {
    "colab": {
     "base_uri": "https://localhost:8080/"
    },
    "id": "YUvt44D9vXbn",
    "outputId": "c1f969e0-aa52-4abe-f181-54474109e7ee"
   },
   "outputs": [
    {
<<<<<<< HEAD
     "data": {
      "text/plain": [
       "nan"
=======
      "cell_type": "code",
      "source": [
        "# Intersection;\n",
        "\n",
        "set_2.intersection(set_4)"
      ],
      "metadata": {
        "colab": {
          "base_uri": "https://localhost:8080/"
        },
        "id": "l8rj77MygxT_",
        "outputId": "f6311b5a-2a1d-4c7a-e56f-c70901437ceb"
      },
      "execution_count": 87,
      "outputs": [
        {
          "output_type": "execute_result",
          "data": {
            "text/plain": [
              "{5, 6, 7}"
            ]
          },
          "metadata": {},
          "execution_count": 87
        }
>>>>>>> 5c43db65ca15e26d43cb27ff6c5ae201e590fcd5
      ]
     },
     "execution_count": 14,
     "metadata": {},
     "output_type": "execute_result"
    }
   ],
   "source": [
    "math.inf/math.inf"
   ]
  },
  {
   "cell_type": "markdown",
   "metadata": {
    "id": "oOSExEi8v2yg"
   },
   "source": [
    "## 3. Complex numbers"
   ]
  },
  {
   "cell_type": "code",
   "execution_count": 15,
   "metadata": {
    "colab": {
     "base_uri": "https://localhost:8080/"
    },
    "id": "qph4Ji4Pvd9H",
    "outputId": "43a9a54c-8390-4dfc-9da3-d90efa1a49fc"
   },
   "outputs": [
    {
<<<<<<< HEAD
     "data": {
      "text/plain": [
       "(3+4j)"
=======
      "cell_type": "markdown",
      "source": [
        "7.5 Dictionaries: To define dictionaries we also use {} (curly brackets), but need to define \"keys\" to individual elements. Allow for some basic operations:"
      ],
      "metadata": {
        "id": "WQtGjBXChIOs"
      }
    },
    {
      "cell_type": "code",
      "source": [
        "# Define a dictionary:\n",
        "\n",
        "dict_1 = {\"CP1\": 7 , \"QM1\": 6 , \"ED1\": 6, \"GR\": 9}\n",
        "\n",
        "print(type(dict_1))"
      ],
      "metadata": {
        "colab": {
          "base_uri": "https://localhost:8080/"
        },
        "id": "Pd-vEs_Qg7tI",
        "outputId": "627c20df-acc4-4796-ee4f-afda3848e791"
      },
      "execution_count": 88,
      "outputs": [
        {
          "output_type": "stream",
          "name": "stdout",
          "text": [
            "<class 'dict'>\n"
          ]
        }
>>>>>>> 5c43db65ca15e26d43cb27ff6c5ae201e590fcd5
      ]
     },
     "execution_count": 15,
     "metadata": {},
     "output_type": "execute_result"
    }
   ],
   "source": [
    "complex(3,4)"
   ]
  },
  {
   "cell_type": "code",
   "execution_count": 16,
   "metadata": {
    "colab": {
     "base_uri": "https://localhost:8080/"
    },
    "id": "DZkFo3xvv6zD",
    "outputId": "db548719-96cb-43c8-8fba-265194890d4c"
   },
   "outputs": [
    {
<<<<<<< HEAD
     "data": {
      "text/plain": [
       "(-1+2j)"
=======
      "cell_type": "code",
      "source": [
        "# Indexing works with the keys:\n",
        "\n",
        "print(dict_1[\"GR\"])"
      ],
      "metadata": {
        "colab": {
          "base_uri": "https://localhost:8080/"
        },
        "id": "wPH-grysiBi5",
        "outputId": "0957c864-795f-4b47-9be6-259cec2b087c"
      },
      "execution_count": 92,
      "outputs": [
        {
          "output_type": "stream",
          "name": "stdout",
          "text": [
            "9\n"
          ]
        }
>>>>>>> 5c43db65ca15e26d43cb27ff6c5ae201e590fcd5
      ]
     },
     "execution_count": 16,
     "metadata": {},
     "output_type": "execute_result"
    }
   ],
   "source": [
    "-1 + 2j"
   ]
  },
  {
   "cell_type": "markdown",
   "metadata": {
    "id": "2JjdWGaSykzU"
   },
   "source": [
    "## 4. Data types:\n",
    "\n",
    "int: integers\n",
    "\n",
    "float: floating point numbers\n",
    "\n",
    "complex: complex numbers\n",
    "\n",
    "\n",
    "The command type() allows to check which type you are dealing with."
   ]
  },
  {
   "cell_type": "code",
   "execution_count": 17,
   "metadata": {
    "colab": {
     "base_uri": "https://localhost:8080/"
    },
    "id": "kC59CFzbwtoH",
    "outputId": "6e457b97-89de-44c1-d580-0ce12d725954"
   },
   "outputs": [
    {
<<<<<<< HEAD
     "data": {
      "text/plain": [
       "int"
=======
      "cell_type": "code",
      "source": [
        "# Print out the keys available\n",
        "\n",
        "dict_1.keys()"
      ],
      "metadata": {
        "colab": {
          "base_uri": "https://localhost:8080/"
        },
        "id": "Ahb3c_qGiZFX",
        "outputId": "ad8bedfc-c737-432f-d711-092768ab019b"
      },
      "execution_count": 93,
      "outputs": [
        {
          "output_type": "execute_result",
          "data": {
            "text/plain": [
              "dict_keys(['CP1', 'QM1', 'ED1', 'GR'])"
            ]
          },
          "metadata": {},
          "execution_count": 93
        }
>>>>>>> 5c43db65ca15e26d43cb27ff6c5ae201e590fcd5
      ]
     },
     "execution_count": 17,
     "metadata": {},
     "output_type": "execute_result"
    }
   ],
   "source": [
    "type(12)"
   ]
  },
  {
   "cell_type": "code",
   "execution_count": 18,
   "metadata": {
    "colab": {
     "base_uri": "https://localhost:8080/"
    },
    "id": "W5ojmo9bzVuE",
    "outputId": "61f9cf77-1a94-442f-c5ec-2aaf9a21a306"
   },
   "outputs": [
    {
<<<<<<< HEAD
     "data": {
      "text/plain": [
       "float"
=======
      "cell_type": "code",
      "source": [
        "# Print the length of the dictionary\n",
        "\n",
        "print(len(dict_1))"
      ],
      "metadata": {
        "colab": {
          "base_uri": "https://localhost:8080/"
        },
        "id": "kUo6u6bPi6Oo",
        "outputId": "616e7828-57ca-4379-9a1f-60fd69b2ea62"
      },
      "execution_count": 94,
      "outputs": [
        {
          "output_type": "stream",
          "name": "stdout",
          "text": [
            "4\n"
          ]
        }
>>>>>>> 5c43db65ca15e26d43cb27ff6c5ae201e590fcd5
      ]
     },
     "execution_count": 18,
     "metadata": {},
     "output_type": "execute_result"
    }
   ],
   "source": [
    "type(12.)"
   ]
  },
  {
   "cell_type": "code",
   "execution_count": 19,
   "metadata": {
    "colab": {
     "base_uri": "https://localhost:8080/"
    },
    "id": "lywa_NTCzZXd",
    "outputId": "38e69dee-5f63-430e-df53-20af8ab7494e"
   },
   "outputs": [
    {
<<<<<<< HEAD
     "data": {
      "text/plain": [
       "complex"
=======
      "cell_type": "code",
      "source": [
        "# Empty dictionaries:\n",
        "\n",
        "universities_dict = {}"
      ],
      "metadata": {
        "id": "mfv4cf-bjB35"
      },
      "execution_count": null,
      "outputs": []
    },
    {
      "cell_type": "code",
      "source": [
        "# Fill up the dictionary:\n",
        "\n",
        "universities_dict[\"Yachay\"] = \"Imbabura\"\n",
        "\n",
        "print(universities_dict)"
      ],
      "metadata": {
        "colab": {
          "base_uri": "https://localhost:8080/"
        },
        "id": "BQUSnonOjXDL",
        "outputId": "bf245b42-e913-4423-9b35-8281ba87a5b8"
      },
      "execution_count": null,
      "outputs": [
        {
          "output_type": "stream",
          "name": "stdout",
          "text": [
            "{'Yachay': 'Imbabura'}\n"
          ]
        }
>>>>>>> 5c43db65ca15e26d43cb27ff6c5ae201e590fcd5
      ]
     },
     "execution_count": 19,
     "metadata": {},
     "output_type": "execute_result"
    }
   ],
   "source": [
    "type(3+4j)"
   ]
  },
  {
   "cell_type": "code",
   "execution_count": 19,
   "metadata": {
    "id": "3a_QQqPszjsz"
   },
   "outputs": [],
   "source": []
  },
  {
   "cell_type": "markdown",
   "metadata": {
    "id": "5Wy1N0Bwzrif"
   },
   "source": [
    "## 5. Logical operators:\n",
    "\n",
    "They are very helpful when dealing with conditionals:"
   ]
  },
  {
   "cell_type": "code",
   "execution_count": 20,
   "metadata": {
    "colab": {
     "base_uri": "https://localhost:8080/"
    },
    "id": "ShMhsQuQzuW7",
    "outputId": "3f1b581d-6037-4129-fc36-5716034cbfb9"
   },
   "outputs": [
    {
<<<<<<< HEAD
     "data": {
      "text/plain": [
       "False"
=======
      "cell_type": "code",
      "source": [
        "universities_dict[\"EPN\"] = \"Pichincha\"\n",
        "\n",
        "print(universities_dict)"
      ],
      "metadata": {
        "colab": {
          "base_uri": "https://localhost:8080/"
        },
        "id": "hH_neuemji8t",
        "outputId": "3ea97fab-4b49-424c-aa09-bd7a9afc3c2e"
      },
      "execution_count": null,
      "outputs": [
        {
          "output_type": "stream",
          "name": "stdout",
          "text": [
            "{'Yachay': 'Imbabura', 'EPN': 'Pichincha'}\n"
          ]
        }
>>>>>>> 5c43db65ca15e26d43cb27ff6c5ae201e590fcd5
      ]
     },
     "execution_count": 20,
     "metadata": {},
     "output_type": "execute_result"
    }
   ],
   "source": [
    "# Compare two numbers\n",
    "\n",
    "2 == 3"
   ]
  },
  {
   "cell_type": "code",
   "execution_count": 21,
   "metadata": {
    "colab": {
     "base_uri": "https://localhost:8080/"
    },
    "id": "BPjs-NLq0Pck",
    "outputId": "d59e979e-e1ce-42fd-b6e0-9bb22e38ea52"
   },
   "outputs": [
    {
<<<<<<< HEAD
     "data": {
      "text/plain": [
       "True"
=======
      "cell_type": "code",
      "source": [
        "universities_dict[\"Espol\"] = \"Guayas\"\n",
        "\n",
        "print(universities_dict)"
      ],
      "metadata": {
        "colab": {
          "base_uri": "https://localhost:8080/"
        },
        "id": "RoprmhQYjqLQ",
        "outputId": "ca40afed-809c-447c-9abc-1639f2b69d86"
      },
      "execution_count": null,
      "outputs": [
        {
          "output_type": "stream",
          "name": "stdout",
          "text": [
            "{'Yachay': 'Imbabura', 'EPN': 'Pichincha', 'Espol': 'Guayas'}\n"
          ]
        }
>>>>>>> 5c43db65ca15e26d43cb27ff6c5ae201e590fcd5
      ]
     },
     "execution_count": 21,
     "metadata": {},
     "output_type": "execute_result"
    }
   ],
   "source": [
    "2 < 3"
   ]
  },
  {
   "cell_type": "code",
   "execution_count": 22,
   "metadata": {
    "colab": {
     "base_uri": "https://localhost:8080/"
    },
    "id": "_jlnwAGW0Vka",
    "outputId": "74146c2c-33b9-4ab9-9bd5-48b642c051bd"
   },
   "outputs": [
    {
<<<<<<< HEAD
     "data": {
      "text/plain": [
       "False"
=======
      "cell_type": "code",
      "source": [
        "universities_dict[\"Ecuador code\"] = 593\n",
        "\n",
        "print(universities_dict)"
      ],
      "metadata": {
        "colab": {
          "base_uri": "https://localhost:8080/"
        },
        "id": "PfdzhiuujuFC",
        "outputId": "9d9d696c-bb42-445d-b1db-16797fc95ed8"
      },
      "execution_count": null,
      "outputs": [
        {
          "output_type": "stream",
          "name": "stdout",
          "text": [
            "{'Yachay': 'Imbabura', 'EPN': 'Pichincha', 'Espol': 'Guayas', 'Ecuador code': 593}\n"
          ]
        }
>>>>>>> 5c43db65ca15e26d43cb27ff6c5ae201e590fcd5
      ]
     },
     "execution_count": 22,
     "metadata": {},
     "output_type": "execute_result"
    }
   ],
   "source": [
    "# And, Not, Or\n",
    "\n",
    "(2 and not 2) and (2 and 2)"
   ]
  },
  {
   "cell_type": "code",
   "execution_count": 23,
   "metadata": {
    "colab": {
     "base_uri": "https://localhost:8080/"
    },
    "id": "bPazq1-L0tJG",
    "outputId": "b18bdcc3-6669-4ec4-b360-db4008b1c3a2"
   },
   "outputs": [
    {
<<<<<<< HEAD
     "data": {
      "text/plain": [
       "2"
=======
      "cell_type": "code",
      "source": [
        "# Adding multiple elements in one go:\n",
        "# https://www.programiz.com/python-programming/methods/dictionary/update\n",
        "universities_dict.update({\"UTA\": \"Tungurahua\", \"ESPOCH\": \"Chimborazo\"})"
      ],
      "metadata": {
        "id": "xE0tgqwyj4Nh"
      },
      "execution_count": null,
      "outputs": []
    },
    {
      "cell_type": "code",
      "source": [
        "print(universities_dict)"
      ],
      "metadata": {
        "colab": {
          "base_uri": "https://localhost:8080/"
        },
        "id": "fk9Xi5hqk7Za",
        "outputId": "1568f208-a0c1-49cc-d703-e62212ea29c4"
      },
      "execution_count": null,
      "outputs": [
        {
          "output_type": "stream",
          "name": "stdout",
          "text": [
            "{'Yachay': 'Imbabura', 'EPN': 'Pichincha', 'Espol': 'Guayas', 'Ecuador code': 593, 'UTA': 'Tungurahua', 'ESPOCH': 'Chimborazo'}\n"
          ]
        }
>>>>>>> 5c43db65ca15e26d43cb27ff6c5ae201e590fcd5
      ]
     },
     "execution_count": 23,
     "metadata": {},
     "output_type": "execute_result"
    }
   ],
   "source": [
    "(4 > 3) + (2 > 1)"
   ]
  },
  {
   "cell_type": "markdown",
   "metadata": {
    "id": "V89EIaRw1O2D"
   },
   "source": [
    "## 6. Variables:\n",
    "\n",
    "= This is called assignment operator!"
   ]
  },
  {
   "cell_type": "code",
   "execution_count": 24,
   "metadata": {
    "id": "KCIYqy8u1D_5"
   },
   "outputs": [],
   "source": [
    "# Define variables\n",
    "\n",
    "a = 3\n",
    "b = 3."
   ]
  },
  {
   "cell_type": "code",
   "execution_count": 25,
   "metadata": {
    "colab": {
     "base_uri": "https://localhost:8080/"
    },
    "id": "n15jtHF-2LGp",
    "outputId": "901bdde3-0376-4414-f947-26ca460024f2"
   },
   "outputs": [
    {
     "name": "stdout",
     "output_type": "stream",
     "text": [
      "<class 'int'>\n",
      "<class 'float'>\n"
     ]
    }
   ],
   "source": [
    "print(type(a))\n",
    "print(type(b))"
   ]
  },
  {
   "cell_type": "code",
   "execution_count": 26,
   "metadata": {
    "colab": {
     "base_uri": "https://localhost:8080/"
    },
    "id": "f8Rh-nsw2Mjp",
    "outputId": "8769d5e2-90c7-4435-9f44-94625a12be82"
   },
   "outputs": [
    {
     "name": "stdout",
     "output_type": "stream",
     "text": [
      "6.0\n"
     ]
    }
   ],
   "source": [
    "# Operations with variables\n",
    "\n",
    "c = b*2.\n",
    "\n",
    "print(c)"
   ]
  },
  {
   "cell_type": "code",
   "execution_count": 27,
   "metadata": {
    "colab": {
     "base_uri": "https://localhost:8080/"
    },
    "id": "isaVa5Lr2pFo",
    "outputId": "cfbbea78-08ea-4da4-fa81-cc4df9f55cab"
   },
   "outputs": [
    {
     "name": "stdout",
     "output_type": "stream",
     "text": [
      "Variable   Type      Data/Info\n",
      "------------------------------\n",
      "a          int       3\n",
      "b          float     3.0\n",
      "c          float     6.0\n",
      "math       module    <module 'math' (built-in)>\n"
     ]
    }
   ],
   "source": [
    "%whos"
   ]
  },
  {
   "cell_type": "code",
   "execution_count": 28,
   "metadata": {
    "id": "rFSz4dEo24ZS"
   },
   "outputs": [],
   "source": [
    "# Another operation for a\n",
    "\n",
    "a = b+1."
   ]
  },
  {
   "cell_type": "code",
   "execution_count": 29,
   "metadata": {
    "colab": {
     "base_uri": "https://localhost:8080/"
    },
    "id": "gDPdVJ323Ss3",
    "outputId": "6a1d9902-c9a1-4db6-c374-7b2c73f73796"
   },
   "outputs": [
    {
     "name": "stdout",
     "output_type": "stream",
     "text": [
      "Variable   Type      Data/Info\n",
      "------------------------------\n",
      "a          float     4.0\n",
      "b          float     3.0\n",
      "c          float     6.0\n",
      "math       module    <module 'math' (built-in)>\n"
     ]
    }
   ],
   "source": [
    "%whos"
   ]
  },
  {
   "cell_type": "code",
   "execution_count": 30,
   "metadata": {
    "colab": {
     "base_uri": "https://localhost:8080/"
    },
    "id": "jTxznvyu3TxL",
    "outputId": "b38f4465-7016-4da4-a507-566ec7227f1e"
   },
   "outputs": [
    {
     "name": "stdout",
     "output_type": "stream",
     "text": [
      "0.0\n"
     ]
    }
   ],
   "source": [
    "t = 0.\n",
    "\n",
    "print(t)"
   ]
  },
  {
   "cell_type": "code",
   "execution_count": 31,
   "metadata": {
    "colab": {
     "base_uri": "https://localhost:8080/"
    },
    "id": "EYDfREuh3v92",
    "outputId": "47259cb3-cf08-48fc-b8e7-2461cc434b68"
   },
   "outputs": [
    {
     "name": "stdout",
     "output_type": "stream",
     "text": [
      "1.0\n"
     ]
    }
   ],
   "source": [
    "t = t + 1.\n",
    "\n",
    "print(t)"
   ]
  },
  {
   "cell_type": "markdown",
   "metadata": {
    "id": "3vHbXEro4URY"
   },
   "source": [
    "## 7. Data structures:\n",
    "\n",
    "- Strings: characters -> text\n",
    "\n",
    "- Lists: native to python\n",
    "\n",
    "- Tuples: Sets of data\n",
    "\n",
    "- Sets, Dictionaries.\n",
    "\n",
    "- Arrays (Numpy)"
   ]
  },
  {
   "cell_type": "markdown",
   "metadata": {
    "id": "rIo6Hrgr5IYL"
   },
   "source": [
    "7.1 Strings:"
   ]
  },
  {
   "cell_type": "code",
   "execution_count": 32,
   "metadata": {
    "colab": {
     "base_uri": "https://localhost:8080/"
    },
    "id": "Gj4UWgaU3yRs",
    "outputId": "93519b7e-28f0-4958-d51a-2329d27f9776"
   },
   "outputs": [
    {
     "name": "stdout",
     "output_type": "stream",
     "text": [
      "<class 'str'>\n",
      "4\n"
     ]
    }
   ],
   "source": [
    "# Examples \n",
    "\n",
    "d = \"file\"\n",
    "\n",
    "print(type(d))\n",
    "\n",
    "print(len(d))"
   ]
  },
  {
   "cell_type": "code",
   "execution_count": 33,
   "metadata": {
    "colab": {
     "base_uri": "https://localhost:8080/"
    },
    "id": "ywivlErX5VHY",
    "outputId": "45f83192-3827-4f86-8995-57ccaad4c987"
   },
   "outputs": [
    {
     "name": "stdout",
     "output_type": "stream",
     "text": [
      "<class 'str'> 1\n"
     ]
    }
   ],
   "source": [
    "# Empty string\n",
    "\n",
    "e = \" \"\n",
    "\n",
    "print(type(e), len(e))"
   ]
  },
  {
   "cell_type": "code",
   "execution_count": 34,
   "metadata": {
    "id": "RRtG216l5wCx"
   },
   "outputs": [],
   "source": [
    "# Access specific character\n",
    "\n",
    "f = \"file001\""
   ]
  },
  {
   "cell_type": "code",
   "execution_count": 35,
   "metadata": {
    "colab": {
     "base_uri": "https://localhost:8080/"
    },
    "id": "NFJsAnYz59yj",
    "outputId": "d1cffb98-a829-43ba-e9fd-5f6091ad027b"
   },
   "outputs": [
    {
     "name": "stdout",
     "output_type": "stream",
     "text": [
      "1\n",
      "001\n"
     ]
    }
   ],
   "source": [
    "# Python indexes from 0, and the [] are used for indexing.\n",
    "print(f[6])\n",
    "print(f[4:7])"
   ]
  },
  {
   "cell_type": "code",
   "execution_count": 36,
   "metadata": {
    "colab": {
     "base_uri": "https://localhost:8080/"
    },
    "id": "dLhreapv6BcL",
    "outputId": "93bcced4-99b0-4175-c83b-efb56cef5df6"
   },
   "outputs": [
    {
     "name": "stdout",
     "output_type": "stream",
     "text": [
      "2\n",
      "file011\n"
     ]
    }
   ],
   "source": [
    "print(f.count(\"0\"))\n",
    "print(f.replace(\"00\", \"01\"))"
   ]
  },
  {
   "cell_type": "markdown",
   "metadata": {
    "id": "z939pa9e6zXA"
   },
   "source": [
    "## 7.2 Lists:\n",
    "\n",
    "To define lists we use []."
   ]
  },
  {
   "cell_type": "code",
   "execution_count": 37,
   "metadata": {
    "colab": {
     "base_uri": "https://localhost:8080/"
    },
    "id": "2pjMPhoE6jIV",
    "outputId": "0d699d12-ae8a-4afa-aa71-c0cb7f34df70"
   },
   "outputs": [
    {
     "name": "stdout",
     "output_type": "stream",
     "text": [
      "<class 'list'>\n"
     ]
    }
   ],
   "source": [
    "list_1 = [4,7,9]\n",
    "\n",
    "print(type(list_1))"
   ]
  },
  {
   "cell_type": "code",
   "execution_count": 38,
   "metadata": {
    "colab": {
     "base_uri": "https://localhost:8080/"
    },
    "id": "xKy1uBwX7C2r",
    "outputId": "8ee8932b-76ff-4c10-c894-9227cabd9dbf"
   },
   "outputs": [
    {
     "name": "stdout",
     "output_type": "stream",
     "text": [
      "['Hola', 7, 9]\n",
      "<class 'list'>\n"
     ]
    }
   ],
   "source": [
    "list_2 = [\"Hola\",7,9]\n",
    "\n",
    "print(list_2)\n",
    "print(type(list_2))"
   ]
  },
  {
   "cell_type": "code",
   "execution_count": 39,
   "metadata": {
    "colab": {
     "base_uri": "https://localhost:8080/"
    },
    "id": "EPgm1eFl7HdG",
    "outputId": "3d803d11-0734-4df3-f150-a3b1e69092ba"
   },
   "outputs": [
    {
     "name": "stdout",
     "output_type": "stream",
     "text": [
      "Hola\n",
      "9\n",
      "7\n"
     ]
    }
   ],
   "source": [
    "# Indexing\n",
    "\n",
    "print(list_2[0])\n",
    "print(list_2[2])\n",
    "print(list_2[-2])"
   ]
  },
  {
   "cell_type": "code",
   "execution_count": 40,
   "metadata": {
    "colab": {
     "base_uri": "https://localhost:8080/"
    },
    "id": "wWQzohqS7atG",
    "outputId": "82508b8b-ff1e-47f8-a973-526326515554"
   },
   "outputs": [
    {
<<<<<<< HEAD
     "data": {
      "text/plain": [
       "3"
=======
      "cell_type": "code",
      "source": [
        "# Remove elements from dictionary via del()\n",
        "\n",
        "del universities_dict[\"Ecuador code\"]"
      ],
      "metadata": {
        "id": "HBqtDXgAlBE7"
      },
      "execution_count": null,
      "outputs": []
    },
    {
      "cell_type": "code",
      "source": [
        "print(universities_dict)"
      ],
      "metadata": {
        "colab": {
          "base_uri": "https://localhost:8080/"
        },
        "id": "5ppLZXNll0t8",
        "outputId": "23524515-0d11-4479-c33b-f82a42acad26"
      },
      "execution_count": null,
      "outputs": [
        {
          "output_type": "stream",
          "name": "stdout",
          "text": [
            "{'Yachay': 'Imbabura', 'EPN': 'Pichincha', 'Espol': 'Guayas', 'UTA': 'Tungurahua', 'ESPOCH': 'Chimborazo'}\n"
          ]
        }
>>>>>>> 5c43db65ca15e26d43cb27ff6c5ae201e590fcd5
      ]
     },
     "execution_count": 40,
     "metadata": {},
     "output_type": "execute_result"
    }
   ],
   "source": [
    "# length of the list\n",
    "\n",
    "len(list_2)\n",
    "\n"
   ]
  },
  {
   "cell_type": "code",
   "execution_count": 41,
   "metadata": {
    "colab": {
     "base_uri": "https://localhost:8080/"
    },
    "id": "nxMpgerS79MR",
    "outputId": "0604593a-1cd4-42df-f62c-06b79da02bbf"
   },
   "outputs": [
    {
     "name": "stdout",
     "output_type": "stream",
     "text": [
      "[4, 7, 9, 'Hola', 7, 9]\n"
     ]
    }
   ],
   "source": [
    "# Concatenate lists\n",
    "\n",
    "list_3 = list_1 + list_2\n",
    "\n",
    "print(list_3)"
   ]
  },
  {
   "cell_type": "code",
   "execution_count": 42,
   "metadata": {
    "colab": {
     "base_uri": "https://localhost:8080/"
    },
    "id": "y3yz_nw_8Hgr",
    "outputId": "0014d812-048a-4521-ff72-07403070974e"
   },
   "outputs": [
    {
     "name": "stdout",
     "output_type": "stream",
     "text": [
      "[]\n",
      "[1]\n"
     ]
    }
   ],
   "source": [
    "# Empty list\n",
    "\n",
    "m = []\n",
    "\n",
    "print(m)\n",
    "\n",
    "m.append(1)\n",
    "\n",
    "print(m)"
   ]
  },
  {
   "cell_type": "code",
   "execution_count": 43,
   "metadata": {
    "colab": {
     "base_uri": "https://localhost:8080/"
    },
    "id": "HKXoS2Eg8hm_",
    "outputId": "88ada5b8-4f01-41ab-a40a-3671ae5c0ef7"
   },
   "outputs": [
    {
     "name": "stdout",
     "output_type": "stream",
     "text": [
      "[1, 2]\n"
     ]
    }
   ],
   "source": [
    "m.append(2)\n",
    "\n",
    "print(m)"
   ]
  },
  {
   "cell_type": "code",
   "execution_count": 44,
   "metadata": {
    "colab": {
     "base_uri": "https://localhost:8080/"
    },
    "id": "BValGRq08n1e",
    "outputId": "82f67a5d-64b4-4e77-d0f1-ec7c7a927aea"
   },
   "outputs": [
    {
     "name": "stdout",
     "output_type": "stream",
     "text": [
      "['f', 'i', 'l', 'e']\n"
     ]
    }
   ],
   "source": [
    "# String to list\n",
    "\n",
    "d_list = list(d)\n",
    "\n",
    "print(d_list)"
   ]
  },
  {
   "cell_type": "markdown",
   "metadata": {
    "id": "OUqQZQnna1SP"
   },
   "source": [
    "## 7.3 Tuples:\n",
    "\n",
    "To define lists we use ()."
   ]
  },
  {
   "cell_type": "code",
   "execution_count": 45,
   "metadata": {
    "colab": {
     "base_uri": "https://localhost:8080/"
    },
    "id": "dMYSaKSK8zab",
    "outputId": "8595b3a8-9c11-41bd-a286-3782d4c0b500"
   },
   "outputs": [
    {
     "name": "stdout",
     "output_type": "stream",
     "text": [
      "<class 'tuple'>\n"
     ]
    }
   ],
   "source": [
    "# Define a tuple\n",
    "\n",
    "tuple_1 = (100, 200, 300)\n",
    "\n",
    "print(type(tuple_1))"
   ]
  },
  {
   "cell_type": "code",
   "execution_count": 47,
   "metadata": {
    "colab": {
     "base_uri": "https://localhost:8080/"
    },
    "id": "AuGSmeJebYbt",
    "outputId": "41471729-26a2-4653-929e-c0e8ed45e803"
   },
   "outputs": [
    {
     "name": "stdout",
     "output_type": "stream",
     "text": [
      "(100, 200)\n"
     ]
    }
   ],
   "source": [
    "# Use indexing\n",
    "\n",
    "print(tuple_1[0:2])"
   ]
  },
  {
   "cell_type": "code",
   "execution_count": 48,
   "metadata": {
    "colab": {
     "base_uri": "https://localhost:8080/"
    },
    "id": "QPWbuDYBblZH",
    "outputId": "6d7a8921-e0b3-4f2e-b8f1-a81b4b3b38ff"
   },
   "outputs": [
    {
     "name": "stdout",
     "output_type": "stream",
     "text": [
      "3\n"
     ]
    }
   ],
   "source": [
    "print(len(tuple_1))"
   ]
  },
  {
   "cell_type": "code",
   "execution_count": 49,
   "metadata": {
    "colab": {
     "base_uri": "https://localhost:8080/"
    },
    "id": "e_tS7JUKb2xV",
    "outputId": "72658870-de28-4ec9-f933-bda9609a6cad"
   },
   "outputs": [
    {
     "name": "stdout",
     "output_type": "stream",
     "text": [
      "1\n"
     ]
    }
   ],
   "source": [
    "print(tuple_1.count(100))"
   ]
  },
  {
   "cell_type": "code",
   "execution_count": 53,
   "metadata": {
    "colab": {
     "base_uri": "https://localhost:8080/"
    },
    "id": "CeIPW-4JdPuL",
    "outputId": "e39b555e-0a6a-499a-b3f7-97b11d95f274"
   },
   "outputs": [
    {
     "name": "stdout",
     "output_type": "stream",
     "text": [
      "[100, 200, 500]\n"
     ]
    }
   ],
   "source": [
    "# Differences between tuples and lists\n",
    "\n",
    "list_1 = [100, 200, 300]\n",
    "\n",
    "# Change an element within the list\n",
    "\n",
    "list_1[2] = 500\n",
    "\n",
    "print(list_1)\n",
    "\n",
    "# Can we do the same with tuples? NO.\n",
    "\n",
    "#tuple_1[2] = 500 # This gives us an error\n",
    "# TypeError: 'tuple' object does not support item assignment\n"
   ]
  },
  {
   "cell_type": "code",
   "execution_count": 55,
   "metadata": {
    "colab": {
     "base_uri": "https://localhost:8080/"
    },
    "id": "3jrhu1TmdeZt",
    "outputId": "d580de66-e628-44ad-b8ed-8731b68f9773"
   },
   "outputs": [
    {
     "name": "stdout",
     "output_type": "stream",
     "text": [
      "[100, 200, 500]\n",
      "100 200 500\n"
     ]
    }
   ],
   "source": [
    "# Tuples can receive objects via unpacking\n",
    "# Let's get the elements from list_1\n",
    "\n",
    "print(list_1)\n",
    "\n",
    "x, y, z = list_1\n",
    "\n",
    "print(x, y, z)"
   ]
  },
  {
   "cell_type": "code",
   "execution_count": 57,
   "metadata": {
    "colab": {
     "base_uri": "https://localhost:8080/"
    },
    "id": "TGkJzzhZeL20",
    "outputId": "eefbcd1f-fe19-4f99-a7a8-38156a0aca04"
   },
   "outputs": [
    {
     "name": "stdout",
     "output_type": "stream",
     "text": [
      "<class 'tuple'>\n"
     ]
    }
   ],
   "source": [
    "# Parethesis are not strictly needed to generate tuples\n",
    "# But they are desired highly\n",
    "\n",
    "tuple_2 = 7,8,9\n",
    "\n",
    "print(type(tuple_2))"
   ]
  },
  {
   "cell_type": "markdown",
   "metadata": {
    "id": "6PZYN1-oe8dX"
   },
   "source": [
    "7.4 Sets:\n",
    "To define lists we use {} (curly brackets). Allow for some basic operations:\n",
    "\n",
    "- Unions\n",
    "- Intersections\n",
    "- Differences"
   ]
  },
  {
   "cell_type": "code",
   "execution_count": 58,
   "metadata": {
    "colab": {
     "base_uri": "https://localhost:8080/"
    },
    "id": "H35LACozes_Y",
    "outputId": "f05ff380-28f8-4c1b-c3d3-56bc2fa9ae33"
   },
   "outputs": [
    {
<<<<<<< HEAD
     "data": {
      "text/plain": [
       "{1, 2, 3, 4, 5, 6, 7}"
=======
      "cell_type": "code",
      "source": [
        "%whos"
      ],
      "metadata": {
        "colab": {
          "base_uri": "https://localhost:8080/"
        },
        "id": "Pq8Gupbzl2sI",
        "outputId": "cf7d70d6-260e-4263-8d3e-020a4a687816"
      },
      "execution_count": null,
      "outputs": [
        {
          "output_type": "stream",
          "name": "stdout",
          "text": [
            "Variable            Type      Data/Info\n",
            "---------------------------------------\n",
            "a                   float     4.0\n",
            "b                   float     3.0\n",
            "c                   float     6.0\n",
            "d                   str       file\n",
            "d_list              list      n=4\n",
            "dict_1              dict      n=4\n",
            "e                   str        \n",
            "f                   str       file001\n",
            "list_1              list      n=3\n",
            "list_2              list      n=3\n",
            "list_3              list      n=6\n",
            "m                   list      n=2\n",
            "math                module    <module 'math' (built-in)>\n",
            "set_1               set       {1, 2, 3, 4, 5, 6, 7}\n",
            "set_2               set       {1, 2, 3, 4, 5, 6, 7}\n",
            "set_3               set       {'a', 'c', 'Y', 'y', 'h'}\n",
            "set_4               set       {5, 6, 7, 8, 9, 10}\n",
            "t                   float     1.0\n",
            "tuple_1             tuple     n=3\n",
            "tuple_2             tuple     n=3\n",
            "universities_dict   dict      n=5\n",
            "x                   int       100\n",
            "y                   int       200\n",
            "z                   int       500\n"
          ]
        }
>>>>>>> 5c43db65ca15e26d43cb27ff6c5ae201e590fcd5
      ]
     },
     "execution_count": 58,
     "metadata": {},
     "output_type": "execute_result"
    }
   ],
   "source": [
    "{1, 1, 2, 3, 4, 4, 5, 6, 6, 7, 7, 7}"
   ]
  },
  {
   "cell_type": "code",
   "execution_count": 59,
   "metadata": {
    "colab": {
     "base_uri": "https://localhost:8080/"
    },
    "id": "ABOVkbYEfYI0",
    "outputId": "ea6141c1-8933-4861-b55a-e6ffdd70e57f"
   },
   "outputs": [
    {
     "name": "stdout",
     "output_type": "stream",
     "text": [
      "<class 'set'>\n"
     ]
    }
   ],
   "source": [
    "print(type({1, 1, 2, 3, 4, 4, 5, 6, 6, 7, 7, 7}))"
   ]
  },
  {
   "cell_type": "code",
   "execution_count": 63,
   "metadata": {
    "colab": {
     "base_uri": "https://localhost:8080/"
    },
    "id": "lyUOhd3dfd8o",
    "outputId": "c37ae3aa-3abf-4fa3-9a9b-dfec493185c0"
   },
   "outputs": [
    {
     "name": "stdout",
     "output_type": "stream",
     "text": [
      "{1, 2, 3, 4, 5, 6, 7}\n"
     ]
    }
   ],
   "source": [
    "# Operations via set():\n",
    "\n",
    "# The unique elements can be found like this:\n",
    "\n",
    "set_1 = set([1, 1, 2, 3, 4, 4, 5, 6, 6, 7, 7, 7])\n",
    "\n",
    "print(set_1)\n"
   ]
  },
  {
   "cell_type": "code",
   "execution_count": 65,
   "metadata": {
    "colab": {
     "base_uri": "https://localhost:8080/"
    },
    "id": "PhKGYd8SfpcQ",
    "outputId": "cd959ba0-f455-4ee9-a090-ba4a5e62c372"
   },
   "outputs": [
    {
     "name": "stdout",
     "output_type": "stream",
     "text": [
      "{1, 2, 3, 4, 5, 6, 7}\n"
     ]
    }
   ],
   "source": [
    "# This is for tuples\n",
    "\n",
    "set_2 = set((1, 1, 2, 3, 4, 4, 5, 6, 6, 7, 7, 7))\n",
    "\n",
    "print(set_2)"
   ]
  },
  {
   "cell_type": "code",
   "execution_count": 66,
   "metadata": {
    "colab": {
     "base_uri": "https://localhost:8080/"
    },
    "id": "mpNl1ZZuf-Yy",
    "outputId": "71b57ed5-b635-4250-de8d-162d54c340f8"
   },
   "outputs": [
    {
     "name": "stdout",
     "output_type": "stream",
     "text": [
      "{'a', 'c', 'Y', 'y', 'h'}\n"
     ]
    }
   ],
   "source": [
    "# For strings:\n",
    "\n",
    "set_3 = set(\"Yachay\")\n",
    "\n",
    "print(set_3)"
   ]
  },
  {
   "cell_type": "code",
   "execution_count": 69,
   "metadata": {
    "colab": {
     "base_uri": "https://localhost:8080/"
    },
    "id": "fyCB8zSdgOYO",
    "outputId": "00969987-8c33-4ba7-bcdc-de578d0622e3"
   },
   "outputs": [
    {
     "name": "stdout",
     "output_type": "stream",
     "text": [
      "{5, 6, 7, 8, 9, 10}\n"
     ]
    }
   ],
   "source": [
    "# Define a new set\n",
    "set_4 = set((5,6,7, 8, 9, 10))\n",
    "\n",
    "print(set_4)"
   ]
  },
  {
   "cell_type": "code",
   "execution_count": 70,
   "metadata": {
    "colab": {
     "base_uri": "https://localhost:8080/"
    },
    "id": "jI5vSJPOghfO",
    "outputId": "66e4d643-7483-4be2-8de1-eb00a6beb4bb"
   },
   "outputs": [
    {
<<<<<<< HEAD
     "data": {
      "text/plain": [
       "{1, 2, 3, 4, 5, 6, 7, 8, 9, 10}"
=======
      "cell_type": "code",
      "source": [
        "print(x)"
      ],
      "metadata": {
        "colab": {
          "base_uri": "https://localhost:8080/"
        },
        "id": "V709eeIxl6xj",
        "outputId": "5011b2c4-c912-4712-aea3-f5a4e6a6c056"
      },
      "execution_count": null,
      "outputs": [
        {
          "output_type": "stream",
          "name": "stdout",
          "text": [
            "100\n"
          ]
        }
>>>>>>> 5c43db65ca15e26d43cb27ff6c5ae201e590fcd5
      ]
     },
     "execution_count": 70,
     "metadata": {},
     "output_type": "execute_result"
    }
   ],
   "source": [
    "# Union operation\n",
    "\n",
    "set_2.union(set_4)\n"
   ]
  },
  {
   "cell_type": "code",
   "execution_count": 71,
   "metadata": {
    "colab": {
     "base_uri": "https://localhost:8080/"
    },
    "id": "l8rj77MygxT_",
    "outputId": "3493d73e-e3c6-4748-a197-85c4452cc87b"
   },
   "outputs": [
    {
<<<<<<< HEAD
     "data": {
      "text/plain": [
       "{5, 6, 7}"
=======
      "cell_type": "code",
      "source": [
        "del x"
      ],
      "metadata": {
        "id": "tpWZge_GmInf"
      },
      "execution_count": null,
      "outputs": []
    },
    {
      "cell_type": "code",
      "source": [
        "print(x)"
      ],
      "metadata": {
        "colab": {
          "base_uri": "https://localhost:8080/",
          "height": 166
        },
        "id": "RjC2x8fNmJ3W",
        "outputId": "b14aa0e8-0249-4d2e-aebe-b0fd4ac6f866"
      },
      "execution_count": null,
      "outputs": [
        {
          "output_type": "error",
          "ename": "NameError",
          "evalue": "ignored",
          "traceback": [
            "\u001b[0;31m---------------------------------------------------------------------------\u001b[0m",
            "\u001b[0;31mNameError\u001b[0m                                 Traceback (most recent call last)",
            "\u001b[0;32m<ipython-input-93-fc17d851ef81>\u001b[0m in \u001b[0;36m<cell line: 1>\u001b[0;34m()\u001b[0m\n\u001b[0;32m----> 1\u001b[0;31m \u001b[0mprint\u001b[0m\u001b[0;34m(\u001b[0m\u001b[0mx\u001b[0m\u001b[0;34m)\u001b[0m\u001b[0;34m\u001b[0m\u001b[0;34m\u001b[0m\u001b[0m\n\u001b[0m",
            "\u001b[0;31mNameError\u001b[0m: name 'x' is not defined"
          ]
        }
>>>>>>> 5c43db65ca15e26d43cb27ff6c5ae201e590fcd5
      ]
     },
     "execution_count": 71,
     "metadata": {},
     "output_type": "execute_result"
    }
   ],
   "source": [
    "# Intersection;\n",
    "\n",
    "set_2.intersection(set_4)"
   ]
  },
  {
   "cell_type": "markdown",
   "metadata": {
    "id": "WQtGjBXChIOs"
   },
   "source": [
    "7.5 Dictionaries: To define dictionaries we also use {} (curly brackets), but need to define \"keys\" to individual elements. Allow for some basic operations:"
   ]
  },
  {
   "cell_type": "code",
   "execution_count": 72,
   "metadata": {
    "colab": {
     "base_uri": "https://localhost:8080/"
    },
    "id": "Pd-vEs_Qg7tI",
    "outputId": "8c719d41-ae41-475e-c91c-f09beccd7e19"
   },
   "outputs": [
    {
     "name": "stdout",
     "output_type": "stream",
     "text": [
      "<class 'dict'>\n"
     ]
    }
   ],
   "source": [
    "# Define a dictionary:\n",
    "\n",
    "dict_1 = {\"CP1\": 7 , \"QM1\": 6 , \"ED1\": 6, \"GR\": 9}\n",
    "\n",
    "print(type(dict_1))"
   ]
  },
  {
   "cell_type": "code",
   "execution_count": 73,
   "metadata": {
    "colab": {
     "base_uri": "https://localhost:8080/"
    },
    "id": "wPH-grysiBi5",
    "outputId": "be058597-5421-48e5-ae49-0a9b6047c2e4"
   },
   "outputs": [
    {
     "name": "stdout",
     "output_type": "stream",
     "text": [
      "6\n"
     ]
    }
   ],
   "source": [
    "# Indexing works with the keys:\n",
    "\n",
    "print(dict_1[\"QM1\"])"
   ]
  },
  {
   "cell_type": "code",
   "execution_count": 75,
   "metadata": {
    "colab": {
     "base_uri": "https://localhost:8080/"
    },
    "id": "Ahb3c_qGiZFX",
    "outputId": "fe89e6ab-84a2-4ffc-982e-1d492f71b966"
   },
   "outputs": [
    {
<<<<<<< HEAD
     "data": {
      "text/plain": [
       "dict_keys(['CP1', 'QM1', 'ED1', 'GR'])"
=======
      "cell_type": "code",
      "source": [
        "%whos"
      ],
      "metadata": {
        "colab": {
          "base_uri": "https://localhost:8080/"
        },
        "id": "AJAJ98brmKvs",
        "outputId": "543c442c-de9f-4d61-e3cb-5533a14ca34d"
      },
      "execution_count": null,
      "outputs": [
        {
          "output_type": "stream",
          "name": "stdout",
          "text": [
            "Variable            Type      Data/Info\n",
            "---------------------------------------\n",
            "a                   float     4.0\n",
            "b                   float     3.0\n",
            "c                   float     6.0\n",
            "d                   str       file\n",
            "d_list              list      n=4\n",
            "dict_1              dict      n=4\n",
            "e                   str        \n",
            "f                   str       file001\n",
            "list_1              list      n=3\n",
            "list_2              list      n=3\n",
            "list_3              list      n=6\n",
            "m                   list      n=2\n",
            "math                module    <module 'math' (built-in)>\n",
            "set_1               set       {1, 2, 3, 4, 5, 6, 7}\n",
            "set_2               set       {1, 2, 3, 4, 5, 6, 7}\n",
            "set_3               set       {'a', 'c', 'Y', 'y', 'h'}\n",
            "set_4               set       {5, 6, 7, 8, 9, 10}\n",
            "t                   float     1.0\n",
            "tuple_1             tuple     n=3\n",
            "tuple_2             tuple     n=3\n",
            "universities_dict   dict      n=5\n",
            "y                   int       200\n",
            "z                   int       500\n"
          ]
        }
>>>>>>> 5c43db65ca15e26d43cb27ff6c5ae201e590fcd5
      ]
     },
     "execution_count": 75,
     "metadata": {},
     "output_type": "execute_result"
    }
   ],
   "source": [
    "# Print out the keys available\n",
    "\n",
    "dict_1.keys()"
   ]
  },
  {
   "cell_type": "code",
   "execution_count": 76,
   "metadata": {
    "colab": {
     "base_uri": "https://localhost:8080/"
    },
    "id": "kUo6u6bPi6Oo",
    "outputId": "32446f5a-edb1-4dd2-f29c-fa48c7f90e7d"
   },
   "outputs": [
    {
     "name": "stdout",
     "output_type": "stream",
     "text": [
      "4\n"
     ]
    }
   ],
   "source": [
    "# Print the length of the dictionary\n",
    "\n",
    "print(len(dict_1))"
   ]
  },
  {
   "cell_type": "code",
   "execution_count": 77,
   "metadata": {
    "id": "mfv4cf-bjB35"
   },
   "outputs": [],
   "source": [
    "# Empty dictionaries:\n",
    "\n",
    "universities_dict = {}"
   ]
  },
  {
   "cell_type": "code",
   "execution_count": 79,
   "metadata": {
    "colab": {
     "base_uri": "https://localhost:8080/"
    },
    "id": "BQUSnonOjXDL",
    "outputId": "bf245b42-e913-4423-9b35-8281ba87a5b8"
   },
   "outputs": [
    {
     "name": "stdout",
     "output_type": "stream",
     "text": [
      "{'Yachay': 'Imbabura'}\n"
     ]
    }
   ],
   "source": [
    "# Fill up the dictionary:\n",
    "\n",
    "universities_dict[\"Yachay\"] = \"Imbabura\"\n",
    "\n",
    "print(universities_dict)"
   ]
  },
  {
   "cell_type": "code",
   "execution_count": 81,
   "metadata": {
    "colab": {
     "base_uri": "https://localhost:8080/"
    },
    "id": "hH_neuemji8t",
    "outputId": "3ea97fab-4b49-424c-aa09-bd7a9afc3c2e"
   },
   "outputs": [
    {
     "name": "stdout",
     "output_type": "stream",
     "text": [
      "{'Yachay': 'Imbabura', 'EPN': 'Pichincha'}\n"
     ]
    }
   ],
   "source": [
    "universities_dict[\"EPN\"] = \"Pichincha\"\n",
    "\n",
    "print(universities_dict)"
   ]
  },
  {
   "cell_type": "code",
   "execution_count": 82,
   "metadata": {
    "colab": {
     "base_uri": "https://localhost:8080/"
    },
    "id": "RoprmhQYjqLQ",
    "outputId": "ca40afed-809c-447c-9abc-1639f2b69d86"
   },
   "outputs": [
    {
     "name": "stdout",
     "output_type": "stream",
     "text": [
      "{'Yachay': 'Imbabura', 'EPN': 'Pichincha', 'Espol': 'Guayas'}\n"
     ]
    }
   ],
   "source": [
    "universities_dict[\"Espol\"] = \"Guayas\"\n",
    "\n",
    "print(universities_dict)"
   ]
  },
  {
   "cell_type": "code",
   "execution_count": 83,
   "metadata": {
    "colab": {
     "base_uri": "https://localhost:8080/"
    },
    "id": "PfdzhiuujuFC",
    "outputId": "9d9d696c-bb42-445d-b1db-16797fc95ed8"
   },
   "outputs": [
    {
     "name": "stdout",
     "output_type": "stream",
     "text": [
      "{'Yachay': 'Imbabura', 'EPN': 'Pichincha', 'Espol': 'Guayas', 'Ecuador code': 593}\n"
     ]
    }
   ],
   "source": [
    "universities_dict[\"Ecuador code\"] = 593\n",
    "\n",
    "print(universities_dict)"
   ]
  },
  {
   "cell_type": "code",
   "execution_count": 87,
   "metadata": {
    "id": "xE0tgqwyj4Nh"
   },
   "outputs": [],
   "source": [
    "# Adding multiple elements in one go:\n",
    "# https://www.programiz.com/python-programming/methods/dictionary/update\n",
    "universities_dict.update({\"UTA\": \"Tungurahua\", \"ESPOCH\": \"Chimborazo\"})"
   ]
  },
  {
   "cell_type": "code",
   "execution_count": 86,
   "metadata": {
    "colab": {
     "base_uri": "https://localhost:8080/"
    },
    "id": "fk9Xi5hqk7Za",
    "outputId": "1568f208-a0c1-49cc-d703-e62212ea29c4"
   },
   "outputs": [
    {
     "name": "stdout",
     "output_type": "stream",
     "text": [
      "{'Yachay': 'Imbabura', 'EPN': 'Pichincha', 'Espol': 'Guayas', 'Ecuador code': 593, 'UTA': 'Tungurahua', 'ESPOCH': 'Chimborazo'}\n"
     ]
    }
   ],
   "source": [
    "print(universities_dict)"
   ]
  },
  {
   "cell_type": "code",
   "execution_count": 88,
   "metadata": {
    "id": "HBqtDXgAlBE7"
   },
   "outputs": [],
   "source": [
    "# Remove elements from dictionary via del()\n",
    "\n",
    "del universities_dict[\"Ecuador code\"]"
   ]
  },
  {
   "cell_type": "code",
   "execution_count": 89,
   "metadata": {
    "colab": {
     "base_uri": "https://localhost:8080/"
    },
    "id": "5ppLZXNll0t8",
    "outputId": "23524515-0d11-4479-c33b-f82a42acad26"
   },
   "outputs": [
    {
     "name": "stdout",
     "output_type": "stream",
     "text": [
      "{'Yachay': 'Imbabura', 'EPN': 'Pichincha', 'Espol': 'Guayas', 'UTA': 'Tungurahua', 'ESPOCH': 'Chimborazo'}\n"
     ]
    }
   ],
   "source": [
    "print(universities_dict)"
   ]
  },
  {
   "cell_type": "code",
   "execution_count": 90,
   "metadata": {
    "colab": {
     "base_uri": "https://localhost:8080/"
    },
    "id": "Pq8Gupbzl2sI",
    "outputId": "cf7d70d6-260e-4263-8d3e-020a4a687816"
   },
   "outputs": [
    {
     "name": "stdout",
     "output_type": "stream",
     "text": [
      "Variable            Type      Data/Info\n",
      "---------------------------------------\n",
      "a                   float     4.0\n",
      "b                   float     3.0\n",
      "c                   float     6.0\n",
      "d                   str       file\n",
      "d_list              list      n=4\n",
      "dict_1              dict      n=4\n",
      "e                   str        \n",
      "f                   str       file001\n",
      "list_1              list      n=3\n",
      "list_2              list      n=3\n",
      "list_3              list      n=6\n",
      "m                   list      n=2\n",
      "math                module    <module 'math' (built-in)>\n",
      "set_1               set       {1, 2, 3, 4, 5, 6, 7}\n",
      "set_2               set       {1, 2, 3, 4, 5, 6, 7}\n",
      "set_3               set       {'a', 'c', 'Y', 'y', 'h'}\n",
      "set_4               set       {5, 6, 7, 8, 9, 10}\n",
      "t                   float     1.0\n",
      "tuple_1             tuple     n=3\n",
      "tuple_2             tuple     n=3\n",
      "universities_dict   dict      n=5\n",
      "x                   int       100\n",
      "y                   int       200\n",
      "z                   int       500\n"
     ]
    }
   ],
   "source": [
    "%whos"
   ]
  },
  {
   "cell_type": "code",
   "execution_count": 91,
   "metadata": {
    "colab": {
     "base_uri": "https://localhost:8080/"
    },
    "id": "V709eeIxl6xj",
    "outputId": "5011b2c4-c912-4712-aea3-f5a4e6a6c056"
   },
   "outputs": [
    {
     "name": "stdout",
     "output_type": "stream",
     "text": [
      "100\n"
     ]
    }
   ],
   "source": [
    "print(x)"
   ]
  },
  {
   "cell_type": "code",
   "execution_count": 92,
   "metadata": {
    "id": "tpWZge_GmInf"
   },
   "outputs": [],
   "source": [
    "del x"
   ]
  },
  {
   "cell_type": "code",
   "execution_count": 93,
   "metadata": {
    "colab": {
     "base_uri": "https://localhost:8080/",
     "height": 166
    },
    "id": "RjC2x8fNmJ3W",
    "outputId": "b14aa0e8-0249-4d2e-aebe-b0fd4ac6f866"
   },
   "outputs": [
    {
     "ename": "NameError",
     "evalue": "ignored",
     "output_type": "error",
     "traceback": [
      "\u001b[0;31m---------------------------------------------------------------------------\u001b[0m",
      "\u001b[0;31mNameError\u001b[0m                                 Traceback (most recent call last)",
      "\u001b[0;32m<ipython-input-93-fc17d851ef81>\u001b[0m in \u001b[0;36m<cell line: 1>\u001b[0;34m()\u001b[0m\n\u001b[0;32m----> 1\u001b[0;31m \u001b[0mprint\u001b[0m\u001b[0;34m(\u001b[0m\u001b[0mx\u001b[0m\u001b[0;34m)\u001b[0m\u001b[0;34m\u001b[0m\u001b[0;34m\u001b[0m\u001b[0m\n\u001b[0m",
      "\u001b[0;31mNameError\u001b[0m: name 'x' is not defined"
     ]
    }
   ],
   "source": [
    "print(x)"
   ]
  },
  {
   "cell_type": "code",
   "execution_count": 94,
   "metadata": {
    "colab": {
     "base_uri": "https://localhost:8080/"
    },
    "id": "AJAJ98brmKvs",
    "outputId": "543c442c-de9f-4d61-e3cb-5533a14ca34d"
   },
   "outputs": [
    {
     "name": "stdout",
     "output_type": "stream",
     "text": [
      "Variable            Type      Data/Info\n",
      "---------------------------------------\n",
      "a                   float     4.0\n",
      "b                   float     3.0\n",
      "c                   float     6.0\n",
      "d                   str       file\n",
      "d_list              list      n=4\n",
      "dict_1              dict      n=4\n",
      "e                   str        \n",
      "f                   str       file001\n",
      "list_1              list      n=3\n",
      "list_2              list      n=3\n",
      "list_3              list      n=6\n",
      "m                   list      n=2\n",
      "math                module    <module 'math' (built-in)>\n",
      "set_1               set       {1, 2, 3, 4, 5, 6, 7}\n",
      "set_2               set       {1, 2, 3, 4, 5, 6, 7}\n",
      "set_3               set       {'a', 'c', 'Y', 'y', 'h'}\n",
      "set_4               set       {5, 6, 7, 8, 9, 10}\n",
      "t                   float     1.0\n",
      "tuple_1             tuple     n=3\n",
      "tuple_2             tuple     n=3\n",
      "universities_dict   dict      n=5\n",
      "y                   int       200\n",
      "z                   int       500\n"
     ]
    }
   ],
   "source": [
    "%whos"
   ]
  },
  {
   "cell_type": "code",
   "execution_count": null,
   "metadata": {
    "id": "0Kmyoa-jmbqv"
   },
   "outputs": [],
   "source": []
  }
 ],
 "metadata": {
  "colab": {
   "authorship_tag": "ABX9TyO0T/Smo0bc2s2Wr/TXEDCN",
   "include_colab_link": true,
   "provenance": []
  },
  "kernelspec": {
   "display_name": "Python 3 (ipykernel)",
   "language": "python",
   "name": "python3"
  },
  "language_info": {
   "codemirror_mode": {
    "name": "ipython",
    "version": 3
   },
   "file_extension": ".py",
   "mimetype": "text/x-python",
   "name": "python",
   "nbconvert_exporter": "python",
   "pygments_lexer": "ipython3",
   "version": "3.7.16"
  }
 },
 "nbformat": 4,
 "nbformat_minor": 1
}
