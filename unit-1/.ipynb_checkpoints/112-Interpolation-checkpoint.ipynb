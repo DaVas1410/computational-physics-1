{
 "cells": [
  {
   "cell_type": "markdown",
   "id": "e5da995c",
   "metadata": {},
   "source": [
    "# Interpolation:\n",
    "\n",
    "## I. Global interpolation:\n",
    "\n",
    "\n",
    "\n",
    "\n",
    "## 1. Newton interpolation\n",
    "\n",
    "$f(x)=a_0+a_1(x-x_0)+a_2(x-x_0)(x-x_1)+...+a_n(x-x-0)...(x-x_n)$\n",
    "\n",
    "Divided differences:\n",
    "\n",
    "$f(x_1,x_0)=\\frac{y_1-y_0}{x_1-x_0}$\n",
    "\n",
    "https://pythonnumericalmethods.berkeley.edu/notebooks/chapter17.05-Newtons-Polynomial-Interpolation.html\n"
   ]
  },
  {
   "cell_type": "code",
   "execution_count": null,
   "id": "3bde4b5e",
   "metadata": {},
   "outputs": [],
   "source": [
    "# Importing libraries\n",
    "import numpy as np\n",
    "import matplotlib.pyplot as plt"
   ]
  },
  {
   "cell_type": "markdown",
   "id": "2d90ca6c",
   "metadata": {},
   "source": [
    "### Example:\n",
    "\n",
    "Find the polynomial function that goes through all the following data points:\n",
    "\n",
    "$x= [-8,-5, -1, 0, 2, 4]$\n",
    "\n",
    "$y= [-4,-2, 6, 1, 3, 5]$"
   ]
  },
  {
   "cell_type": "code",
   "execution_count": null,
   "id": "99c2f0aa",
   "metadata": {},
   "outputs": [],
   "source": [
    "# We need the vectors\n",
    "x = np.array([-8,-5,-1,0,2,4])\n",
    "y = np.array([-4,-2,6,1,3,5])"
   ]
  },
  {
   "cell_type": "code",
   "execution_count": null,
   "id": "af7b564e",
   "metadata": {},
   "outputs": [],
   "source": [
    "# Plotting\n",
    "\n",
    "plt.figure(figsize=(4,3))\n",
    "\n",
    "plt.plot(x, y, marker = \"d\", color = \"red\", linestyle = \" \")\n",
    "plt.grid()\n",
    "plt.show()"
   ]
  },
  {
   "cell_type": "markdown",
   "id": "8b95dc97",
   "metadata": {},
   "source": [
    "### Costruct our own interpolator"
   ]
  },
  {
   "cell_type": "code",
   "execution_count": null,
   "id": "26ffe7dc",
   "metadata": {},
   "outputs": [],
   "source": [
    "# Function for the divided differences\n",
    "\n",
    "def div_diff(x_values, y_values):\n",
    "    \"\"\"\n",
    "    This is function that computes the divided differences.\n",
    "    Inputs: data vectors\n",
    "    Outputs: coefficients of the polynomial\n",
    "    \"\"\"\n",
    "    # We get the length of the vectors\n",
    "    n = len(x_values)\n",
    "    \n",
    "    # We need an empty array to host the coefficients\n",
    "    a_coef = np.zeros([n, n])\n",
    "    \n",
    "    # First we place the y values onto the 1st column\n",
    "    a_coef[:,0] = y_values\n",
    "    \n",
    "    # We iterate obver the indices of the matrix\n",
    "    for j in range(1, n):\n",
    "        for i in range(n - j):\n",
    "            \n",
    "            a_coef[i][j] = (a_coef[i + 1][j - 1]\\\n",
    "            - a_coef[i][j - 1]) / (x_values[i + j] - x_values[i])\n",
    "        \n",
    "    return a_coef"
   ]
  },
  {
   "cell_type": "code",
   "execution_count": null,
   "id": "944fb2ed",
   "metadata": {},
   "outputs": [],
   "source": [
    "# Now we need a function to evalue the polynomial\n",
    "\n",
    "def newton_polynomial(coef, x_values, x_new):\n",
    "    \"\"\"\n",
    "    Function to evaluate the Newton polynomial at specific \n",
    "    x_new values (which are a new x axis)\n",
    "    \"\"\"\n",
    "    n = len(x_values) - 1 \n",
    "    newton = coef[n]\n",
    "    \n",
    "    for k in range(1, n + 1):\n",
    "        newton = coef[n - k] + (x_new - x_values[n - k])*newton\n",
    "    \n",
    "    return newton\n"
   ]
  },
  {
   "cell_type": "code",
   "execution_count": null,
   "id": "cd368623",
   "metadata": {},
   "outputs": [],
   "source": [
    "# Call our functions\n",
    "# First we get the coefficients\n",
    "a_coef_matrix = div_diff(x, y)\n",
    "\n",
    "print(a_coef_matrix)"
   ]
  },
  {
   "cell_type": "code",
   "execution_count": null,
   "id": "f04f9a0c",
   "metadata": {},
   "outputs": [],
   "source": [
    "# We want the first row:\n",
    "a_coef1 = div_diff(x, y)[0,:]\n",
    "print(a_coef1)\n",
    "\n",
    "# Now we call our Newton polynomial function\n",
    "x_new1 = np.arange(-8., 4.1, 0.1)\n",
    "y_new1 = newton_polynomial(a_coef1, x, x_new1)"
   ]
  },
  {
   "cell_type": "code",
   "execution_count": null,
   "id": "2a596d74",
   "metadata": {},
   "outputs": [],
   "source": [
    "# Plotting the result\n",
    "\n",
    "plt.figure(figsize=(4,3))\n",
    "\n",
    "plt.plot(x, y, marker = \"d\", color = \"red\", linestyle = \" \"\\\n",
    "        , label = \"data points\")\n",
    "plt.plot(x_new1, y_new1, color = \"blue\", linestyle = \"-\"\\\n",
    "        , label =\"Newton poly.\")\n",
    "\n",
    "plt.grid()\n",
    "\n",
    "plt.legend()\n",
    "plt.show()\n",
    "\n"
   ]
  },
  {
   "cell_type": "markdown",
   "id": "30f9d302",
   "metadata": {},
   "source": [
    "## 2. Lagrange interpolation\n",
    "\n",
    "\n",
    "We will use scipy.interpolate.lagrange for this.\n",
    "\n",
    "https://pythonnumericalmethods.berkeley.edu/notebooks/chapter17.04-Lagrange-Polynomial-Interpolation.html"
   ]
  },
  {
   "cell_type": "code",
   "execution_count": null,
   "id": "cfa9977e",
   "metadata": {},
   "outputs": [],
   "source": [
    "import scipy.interpolate as interp"
   ]
  },
  {
   "cell_type": "code",
   "execution_count": null,
   "id": "ae8461c7",
   "metadata": {},
   "outputs": [],
   "source": [
    "# Now we call the lagrange function\n",
    "lagrange_poly =interp.lagrange(x, y)\n",
    "\n",
    "print(type(lagrange_poly))\n",
    "\n",
    "print(lagrange_poly)"
   ]
  },
  {
   "cell_type": "code",
   "execution_count": null,
   "id": "2998091c",
   "metadata": {},
   "outputs": [],
   "source": [
    "lagrange_poly(x_new1)"
   ]
  },
  {
   "cell_type": "code",
   "execution_count": null,
   "id": "aaf2a0a2",
   "metadata": {},
   "outputs": [],
   "source": [
    "from numpy.polynomial.polynomial import Polynomial"
   ]
  },
  {
   "cell_type": "code",
   "execution_count": null,
   "id": "ffffc493",
   "metadata": {},
   "outputs": [],
   "source": [
    "# See only the coefficients\n",
    "\n",
    "Polynomial(lagrange_poly.coef[::-1]).coef"
   ]
  },
  {
   "cell_type": "code",
   "execution_count": null,
   "id": "df8bd3fe",
   "metadata": {},
   "outputs": [],
   "source": [
    "# Get the y vector\n",
    "y_new2 = Polynomial(lagrange_poly.coef[::-1])(x_new1)\n",
    "\n",
    "#print(y_new2)"
   ]
  },
  {
   "cell_type": "code",
   "execution_count": null,
   "id": "3ca5a506",
   "metadata": {},
   "outputs": [],
   "source": [
    "# Plotting the result\n",
    "\n",
    "plt.figure(figsize=(4,3))\n",
    "\n",
    "plt.plot(x, y, marker = \"d\", color = \"red\", linestyle = \" \"\\\n",
    "        , label = \"data points\")\n",
    "plt.plot(x_new1, y_new1, color = \"blue\", linestyle = \"-\"\\\n",
    "        , label =\"Newton poly.\")\n",
    "plt.plot(x_new1, y_new2, color = \"green\", linestyle = \"-.\"\\\n",
    "        , label =\"Lagrange poly.\")\n",
    "\n",
    "plt.grid()\n",
    "\n",
    "plt.legend()\n",
    "plt.show()\n",
    "\n"
   ]
  },
  {
   "cell_type": "markdown",
   "id": "44baba81",
   "metadata": {},
   "source": [
    "## II. Point to point interpolation:\n",
    "\n",
    "For 1D data we can use the function **scipy.interpolate.interp1d()** to carry out interpolation of different orders.\n",
    "\n",
    "\n",
    "See documentation here:\n",
    "https://docs.scipy.org/doc/scipy/reference/generated/scipy.interpolate.interp1d.html\n",
    "\n",
    "\n",
    "Interpolation methods are useful for both time series and discrete data."
   ]
  },
  {
   "cell_type": "markdown",
   "id": "7f86ba88",
   "metadata": {},
   "source": [
    "### 3. Linear interpolation:"
   ]
  },
  {
   "cell_type": "code",
   "execution_count": null,
   "id": "303001a0",
   "metadata": {},
   "outputs": [],
   "source": [
    "# Call the interp.interp1d function\n",
    "\n",
    "f_linear = interp.interp1d(x, y, kind = \"linear\")\n",
    "\n",
    "\n",
    "print(type(f_linear))\n",
    "\n",
    "print(f_linear)\n",
    "\n",
    "# Get the actual values\n",
    "\n",
    "#print(f_linear(x_new1))\n",
    "\n",
    "y_new3 = f_linear(x_new1)"
   ]
  },
  {
   "cell_type": "code",
   "execution_count": null,
   "id": "30871f3a",
   "metadata": {},
   "outputs": [],
   "source": [
    "# Plotting the result\n",
    "\n",
    "plt.figure(figsize=(4,3))\n",
    "\n",
    "plt.plot(x, y, marker = \"d\", color = \"red\", linestyle = \" \"\\\n",
    "        , label = \"data points\")\n",
    "plt.plot(x_new1, y_new1, color = \"blue\", linestyle = \"-\"\\\n",
    "        , label =\"Newton poly.\")\n",
    "plt.plot(x_new1, y_new2, color = \"green\", linestyle = \"-.\"\\\n",
    "        , label =\"Lagrange poly.\")\n",
    "plt.plot(x_new1, y_new3, color = \"magenta\", linestyle = \":\"\\\n",
    "        , label =\"Linear interp.\")\n",
    "\n",
    "plt.grid()\n",
    "\n",
    "plt.legend()\n",
    "plt.show()\n",
    "\n"
   ]
  },
  {
   "cell_type": "markdown",
   "id": "429fb399",
   "metadata": {},
   "source": [
    "### 4. Quadratic interpolation:\n"
   ]
  },
  {
   "cell_type": "code",
   "execution_count": null,
   "id": "728c6bb8",
   "metadata": {},
   "outputs": [],
   "source": [
    "f_quadratic = interp.interp1d(x, y, kind = \"quadratic\")\n",
    "\n",
    "y_new4 = f_quadratic(x_new1)"
   ]
  },
  {
   "cell_type": "code",
   "execution_count": null,
   "id": "6f046892",
   "metadata": {},
   "outputs": [],
   "source": [
    "# Plotting the result\n",
    "\n",
    "plt.figure(figsize=(4,3))\n",
    "\n",
    "plt.plot(x, y, marker = \"d\", color = \"red\", linestyle = \" \"\\\n",
    "        , label = \"data points\")\n",
    "plt.plot(x_new1, y_new1, color = \"blue\", linestyle = \"-\"\\\n",
    "        , label =\"Newton poly.\")\n",
    "plt.plot(x_new1, y_new2, color = \"green\", linestyle = \"-.\"\\\n",
    "        , label =\"Lagrange poly.\")\n",
    "plt.plot(x_new1, y_new3, color = \"magenta\", linestyle = \":\"\\\n",
    "        , label =\"Linear interp.\")\n",
    "plt.plot(x_new1, y_new4, color = \"brown\", linestyle = \"--\"\\\n",
    "        , label =\"Quad. interp.\")\n",
    "\n",
    "plt.grid()\n",
    "\n",
    "plt.legend()\n",
    "plt.show()\n",
    "\n"
   ]
  },
  {
   "cell_type": "markdown",
   "id": "b3dd2014",
   "metadata": {},
   "source": [
    "### 5. Point to point Spline interpolation with interpolate.splrep() and interpolate.splev()\n",
    "\n",
    "See documentation: \n",
    "\n",
    "https://docs.scipy.org/doc/scipy/reference/generated/scipy.interpolate.splrep.html#scipy.interpolate.splrep\n",
    "\n",
    "https://docs.scipy.org/doc/scipy/reference/generated/scipy.interpolate.splev.html#scipy.interpolate.splev"
   ]
  },
  {
   "cell_type": "code",
   "execution_count": null,
   "id": "28757ac5",
   "metadata": {},
   "outputs": [],
   "source": [
    "# First we call splrep\n",
    "\n",
    "tck = interp.splrep(x, y, s=0, k=3)\n",
    "\n",
    "print(\"knots:\", tck[0])\n",
    "print(\"coefs:\", tck[1])\n",
    "print(\"k (degree):\", tck[2])"
   ]
  },
  {
   "cell_type": "code",
   "execution_count": null,
   "id": "33301554",
   "metadata": {},
   "outputs": [],
   "source": [
    "# Call the splev function to get the splines\n",
    "\n",
    "y_new5 = interp.splev(x_new1, tck, der = 0)\n",
    "\n",
    "print(x_new1.shape, y_new5.shape)"
   ]
  },
  {
   "cell_type": "code",
   "execution_count": null,
   "id": "f565b402",
   "metadata": {},
   "outputs": [],
   "source": [
    "# Plotting the result\n",
    "\n",
    "plt.figure(figsize=(4,3))\n",
    "\n",
    "plt.plot(x, y, marker = \"d\", color = \"red\", linestyle = \" \"\\\n",
    "        , label = \"data points\")\n",
    "plt.plot(x_new1, y_new1, color = \"blue\", linestyle = \"-\"\\\n",
    "        , label =\"Newton poly.\")\n",
    "plt.plot(x_new1, y_new2, color = \"green\", linestyle = \"-.\"\\\n",
    "        , label =\"Lagrange poly.\")\n",
    "plt.plot(x_new1, y_new3, color = \"magenta\", linestyle = \":\"\\\n",
    "        , label =\"Linear interp.\")\n",
    "plt.plot(x_new1, y_new4, color = \"brown\", linestyle = \"--\"\\\n",
    "        , label =\"Quad. interp.\")\n",
    "\n",
    "plt.plot(x_new1, y_new5, color = \"yellow\", linestyle = \"--\"\\\n",
    "        , label =\"Cubic splines\")\n",
    "\n",
    "plt.grid()\n",
    "\n",
    "plt.legend()\n",
    "plt.show()\n",
    "\n"
   ]
  },
  {
   "cell_type": "code",
   "execution_count": null,
   "id": "991d673f",
   "metadata": {},
   "outputs": [],
   "source": []
  }
 ],
 "metadata": {
  "kernelspec": {
   "display_name": "Python 3 (ipykernel)",
   "language": "python",
   "name": "python3"
  },
  "language_info": {
   "codemirror_mode": {
    "name": "ipython",
    "version": 3
   },
   "file_extension": ".py",
   "mimetype": "text/x-python",
   "name": "python",
   "nbconvert_exporter": "python",
   "pygments_lexer": "ipython3",
   "version": "3.7.16"
  }
 },
 "nbformat": 4,
 "nbformat_minor": 5
}
